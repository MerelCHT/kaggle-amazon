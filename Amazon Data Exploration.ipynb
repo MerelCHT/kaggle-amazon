{
 "cells": [
  {
   "cell_type": "code",
   "execution_count": 2,
   "metadata": {},
   "outputs": [
    {
     "data": {
      "text/html": [
       "<script>requirejs.config({paths: { 'plotly': ['https://cdn.plot.ly/plotly-latest.min']},});if(!window.Plotly) {{require(['plotly'],function(plotly) {window.Plotly=plotly;});}}</script>"
      ],
      "text/vnd.plotly.v1+html": [
       "<script>requirejs.config({paths: { 'plotly': ['https://cdn.plot.ly/plotly-latest.min']},});if(!window.Plotly) {{require(['plotly'],function(plotly) {window.Plotly=plotly;});}}</script>"
      ]
     },
     "metadata": {},
     "output_type": "display_data"
    }
   ],
   "source": [
    "%matplotlib inline\n",
    "from PIL import Image\n",
    "import numpy as np # linear algebra\n",
    "import pandas as pd # data processing, CSV file I/O (e.g. pd.read_csv)\n",
    "import matplotlib.pyplot as plt\n",
    "import plotly.offline as py\n",
    "py.init_notebook_mode(connected=True)\n",
    "import plotly.graph_objs as go\n",
    "import plotly.tools as tls\n",
    "from collections import defaultdict\n",
    "\n",
    "from sklearn.multiclass import OneVsRestClassifier\n",
    "from sklearn.linear_model import LogisticRegression\n",
    "from sklearn.model_selection import GridSearchCV, train_test_split\n",
    "from sklearn.preprocessing import MultiLabelBinarizer, MinMaxScaler\n",
    "from sklearn.metrics import fbeta_score, precision_score, make_scorer, average_precision_score\n",
    "from sklearn.neural_network import MLPClassifier\n",
    "import cv2\n",
    "import warnings"
   ]
  },
  {
   "cell_type": "code",
   "execution_count": 2,
   "metadata": {},
   "outputs": [
    {
     "data": {
      "text/html": [
       "<div>\n",
       "<table border=\"1\" class=\"dataframe\">\n",
       "  <thead>\n",
       "    <tr style=\"text-align: right;\">\n",
       "      <th></th>\n",
       "      <th>image_name</th>\n",
       "      <th>tags</th>\n",
       "    </tr>\n",
       "  </thead>\n",
       "  <tbody>\n",
       "    <tr>\n",
       "      <th>0</th>\n",
       "      <td>train_0</td>\n",
       "      <td>haze primary</td>\n",
       "    </tr>\n",
       "    <tr>\n",
       "      <th>1</th>\n",
       "      <td>train_1</td>\n",
       "      <td>agriculture clear primary water</td>\n",
       "    </tr>\n",
       "    <tr>\n",
       "      <th>2</th>\n",
       "      <td>train_2</td>\n",
       "      <td>clear primary</td>\n",
       "    </tr>\n",
       "    <tr>\n",
       "      <th>3</th>\n",
       "      <td>train_3</td>\n",
       "      <td>clear primary</td>\n",
       "    </tr>\n",
       "    <tr>\n",
       "      <th>4</th>\n",
       "      <td>train_4</td>\n",
       "      <td>agriculture clear habitation primary road</td>\n",
       "    </tr>\n",
       "    <tr>\n",
       "      <th>5</th>\n",
       "      <td>train_5</td>\n",
       "      <td>haze primary water</td>\n",
       "    </tr>\n",
       "    <tr>\n",
       "      <th>6</th>\n",
       "      <td>train_6</td>\n",
       "      <td>agriculture clear cultivation primary water</td>\n",
       "    </tr>\n",
       "    <tr>\n",
       "      <th>7</th>\n",
       "      <td>train_7</td>\n",
       "      <td>haze primary</td>\n",
       "    </tr>\n",
       "    <tr>\n",
       "      <th>8</th>\n",
       "      <td>train_8</td>\n",
       "      <td>agriculture clear cultivation primary</td>\n",
       "    </tr>\n",
       "    <tr>\n",
       "      <th>9</th>\n",
       "      <td>train_9</td>\n",
       "      <td>agriculture clear cultivation primary road</td>\n",
       "    </tr>\n",
       "  </tbody>\n",
       "</table>\n",
       "</div>"
      ],
      "text/plain": [
       "  image_name                                         tags\n",
       "0    train_0                                 haze primary\n",
       "1    train_1              agriculture clear primary water\n",
       "2    train_2                                clear primary\n",
       "3    train_3                                clear primary\n",
       "4    train_4    agriculture clear habitation primary road\n",
       "5    train_5                           haze primary water\n",
       "6    train_6  agriculture clear cultivation primary water\n",
       "7    train_7                                 haze primary\n",
       "8    train_8        agriculture clear cultivation primary\n",
       "9    train_9   agriculture clear cultivation primary road"
      ]
     },
     "execution_count": 2,
     "metadata": {},
     "output_type": "execute_result"
    }
   ],
   "source": [
    "df = pd.read_csv('/Users/theisenm/Downloads/train.csv')\n",
    "df.head(10)"
   ]
  },
  {
   "cell_type": "code",
   "execution_count": 3,
   "metadata": {
    "collapsed": true
   },
   "outputs": [],
   "source": [
    "labels = df['tags'].apply(lambda x: x.split(' '))\n",
    "counts = defaultdict(int)\n",
    "for labelline in labels:\n",
    "    for l in labelline:\n",
    "        counts[l] += 1"
   ]
  },
  {
   "cell_type": "code",
   "execution_count": 4,
   "metadata": {},
   "outputs": [
    {
     "name": "stdout",
     "output_type": "stream",
     "text": [
      "['slash_burn', 'clear', 'blooming', 'primary', 'cloudy', 'conventional_mine', 'water', 'haze', 'cultivation', 'partly_cloudy', 'artisinal_mine', 'habitation', 'bare_ground', 'blow_down', 'agriculture', 'road', 'selective_logging']\n"
     ]
    }
   ],
   "source": [
    "print counts.keys()"
   ]
  },
  {
   "cell_type": "code",
   "execution_count": 5,
   "metadata": {},
   "outputs": [
    {
     "name": "stdout",
     "output_type": "stream",
     "text": [
      "[209, 28203, 332, 37840, 2330, 100, 7262, 2695, 4547, 7251, 339, 3662, 859, 101, 12338, 8076, 340]\n"
     ]
    }
   ],
   "source": [
    "print counts.values()"
   ]
  },
  {
   "cell_type": "code",
   "execution_count": 6,
   "metadata": {},
   "outputs": [
    {
     "data": {
      "text/plain": [
       "([<matplotlib.axis.XTick at 0x110a93590>,\n",
       "  <matplotlib.axis.XTick at 0x110a93c10>,\n",
       "  <matplotlib.axis.XTick at 0x1112b8650>,\n",
       "  <matplotlib.axis.XTick at 0x11131ad90>,\n",
       "  <matplotlib.axis.XTick at 0x11132b510>,\n",
       "  <matplotlib.axis.XTick at 0x11132bc50>,\n",
       "  <matplotlib.axis.XTick at 0x1113363d0>,\n",
       "  <matplotlib.axis.XTick at 0x111336b10>,\n",
       "  <matplotlib.axis.XTick at 0x11133f290>,\n",
       "  <matplotlib.axis.XTick at 0x11133f9d0>,\n",
       "  <matplotlib.axis.XTick at 0x111348150>,\n",
       "  <matplotlib.axis.XTick at 0x111348890>,\n",
       "  <matplotlib.axis.XTick at 0x111348fd0>,\n",
       "  <matplotlib.axis.XTick at 0x111355750>,\n",
       "  <matplotlib.axis.XTick at 0x111355e90>,\n",
       "  <matplotlib.axis.XTick at 0x11135e610>,\n",
       "  <matplotlib.axis.XTick at 0x11135ed50>],\n",
       " <a list of 17 Text xticklabel objects>)"
      ]
     },
     "execution_count": 6,
     "metadata": {},
     "output_type": "execute_result"
    },
    {
     "data": {
      "image/png": "[encoded data removed]",
      "text/plain": [
       "<matplotlib.figure.Figure at 0x111246090>"
      ]
     },
     "metadata": {},
     "output_type": "display_data"
    }
   ],
   "source": [
    "plt.figure(figsize=(10, 4))  # width:20, height:3\n",
    "plt.bar(range(len(counts)), counts.values(), align='edge', width=0.8)\n",
    "plt.xticks(range(len(counts)), counts.keys(), rotation=60)"
   ]
  },
  {
   "cell_type": "code",
   "execution_count": 21,
   "metadata": {
    "collapsed": true
   },
   "outputs": [],
   "source": [
    "count = 0\n",
    "occ = defaultdict(int)\n",
    "for labelline in labels:\n",
    "    for l in labelline:\n",
    "        count += 1\n",
    "        l = count\n",
    "        occ[l] += 1\n",
    "    count = 0"
   ]
  },
  {
   "cell_type": "code",
   "execution_count": 22,
   "metadata": {},
   "outputs": [
    {
     "name": "stdout",
     "output_type": "stream",
     "text": [
      "[1, 2, 3, 4, 5, 6, 7, 8, 9]\n",
      "[40479, 38511, 19287, 12027, 4850, 1149, 153, 26, 2]\n"
     ]
    }
   ],
   "source": [
    "print occ.keys()\n",
    "print occ.values()"
   ]
  },
  {
   "cell_type": "code",
   "execution_count": 10,
   "metadata": {},
   "outputs": [
    {
     "data": {
      "text/plain": [
       "([<matplotlib.axis.XTick at 0x111392610>,\n",
       "  <matplotlib.axis.XTick at 0x110127b10>,\n",
       "  <matplotlib.axis.XTick at 0x111440a10>,\n",
       "  <matplotlib.axis.XTick at 0x111475c10>,\n",
       "  <matplotlib.axis.XTick at 0x111482390>,\n",
       "  <matplotlib.axis.XTick at 0x111482ad0>,\n",
       "  <matplotlib.axis.XTick at 0x11148c250>,\n",
       "  <matplotlib.axis.XTick at 0x11148c990>,\n",
       "  <matplotlib.axis.XTick at 0x111497110>],\n",
       " <a list of 9 Text xticklabel objects>)"
      ]
     },
     "execution_count": 10,
     "metadata": {},
     "output_type": "execute_result"
    },
    {
     "data": {
      "image/png": "[encoded data removed]",
      "text/plain": [
       "<matplotlib.figure.Figure at 0x11138af10>"
      ]
     },
     "metadata": {},
     "output_type": "display_data"
    }
   ],
   "source": [
    "plt.bar(range(len(occ)), occ.values())\n",
    "plt.xticks(range(len(occ)), occ.keys())"
   ]
  },
  {
   "cell_type": "code",
   "execution_count": 5,
   "metadata": {},
   "outputs": [
    {
     "data": {
      "application/vnd.plotly.v1+json": {
       "data": [
        {
         "type": "heatmap",
         "x": [
          "slash_burn",
          "clear",
          "blooming",
          "primary",
          "cloudy",
          "conventional_mine",
          "water",
          "haze",
          "cultivation",
          "partly_cloudy",
          "artisinal_mine",
          "habitation",
          "bare_ground",
          "blow_down",
          "agriculture",
          "road",
          "selective_logging"
         ],
         "y": [
          "slash_burn",
          "clear",
          "blooming",
          "primary",
          "cloudy",
          "conventional_mine",
          "water",
          "haze",
          "cultivation",
          "partly_cloudy",
          "artisinal_mine",
          "habitation",
          "bare_ground",
          "blow_down",
          "agriculture",
          "road",
          "selective_logging"
         ],
         "z": [
          [
           1,
           0.8277511961722488,
           0.009569377990430622,
           1,
           0,
           0,
           0.11483253588516747,
           0.014354066985645933,
           0.6028708133971292,
           0.15789473684210525,
           0,
           0.19617224880382775,
           0.04784688995215311,
           0.009569377990430622,
           0.569377990430622,
           0.1722488038277512,
           0.009569377990430622
          ],
          [
           0.006134099209303975,
           1,
           0.011027195688401943,
           0.9810303868382796,
           0,
           0.002482005460412013,
           0.18710775449420275,
           0,
           0.1250576179839024,
           0,
           0.010885366804949828,
           0.10956281246675885,
           0.026380172322093394,
           0.0030138637733574444,
           0.3244335708967131,
           0.22320320533276602,
           0.010920824025812856
          ],
          [
           0.006024096385542169,
           0.9367469879518072,
           1,
           1,
           0,
           0,
           0.04819277108433735,
           0.012048192771084338,
           0.10542168674698796,
           0.05120481927710843,
           0,
           0.012048192771084338,
           0.009036144578313253,
           0.0030120481927710845,
           0.0963855421686747,
           0.030120481927710843,
           0.02108433734939759
          ],
          [
           0.005523255813953488,
           0.7311839323467231,
           0.008773784355179705,
           1,
           0.008747357293868921,
           0.002484143763213531,
           0.18649577167019027,
           0.07050739957716702,
           0.11773255813953488,
           0.189561310782241,
           0.008562367864693447,
           0.09172832980972516,
           0.01804968287526427,
           0.0025898520084566595,
           0.3168604651162791,
           0.20436046511627906,
           0.008985200845665961
          ],
          [
           0,
           0,
           0,
           0.14206008583690988,
           1,
           0,
           0.03648068669527897,
           0,
           0,
           0,
           0,
           0.0008583690987124463,
           0,
           0,
           0.010300429184549357,
           0.002145922746781116,
           0
          ],
          [
           0,
           0.7,
           0,
           0.94,
           0,
           1,
           0.26,
           0.02,
           0.04,
           0.28,
           0.04,
           0.36,
           0.1,
           0,
           0.24,
           0.59,
           0
          ],
          [
           0.0033048746901679976,
           0.7266593225006885,
           0.002203249793445332,
           0.9717708620214817,
           0.011704764527678326,
           0.0035802809143486644,
           1,
           0.08441200771137428,
           0.11952630129440925,
           0.17722390526025888,
           0.04117323051500964,
           0.1259983475626549,
           0.02836684109060865,
           0.0004131093362709997,
           0.3742770586615258,
           0.2928945194161388,
           0.006747452492426329
          ],
          [
           0.0011131725417439704,
           0,
           0.001484230055658627,
           0.9899814471243042,
           0,
           0.0007421150278293135,
           0.2274582560296846,
           1,
           0.07495361781076067,
           0,
           0.0018552875695732839,
           0.04786641929499073,
           0.015213358070500928,
           0,
           0.24935064935064935,
           0.14619666048237476,
           0.0018552875695732839
          ],
          [
           0.028143846325664506,
           0.7878043332588787,
           0.007817735090462363,
           0.995085995085995,
           0,
           0.0008934554389099843,
           0.1938798302434666,
           0.04511949966495421,
           1,
           0.16707616707616707,
           0.0040205494750949295,
           0.199910654456109,
           0.019879383515747154,
           0.0017869108778199687,
           0.7542997542997543,
           0.28903283448737993,
           0.012955103864194774
          ],
          [
           0.004551096400496483,
           0,
           0.00234450420631637,
           0.989242863053372,
           0,
           0.0038615363398151977,
           0.17749275961936284,
           0,
           0.10315818507792028,
           1,
           0.003723624327678941,
           0.06081919735208937,
           0.010205488898083023,
           0.0017928561577713418,
           0.3436767342435526,
           0.19059440077230727,
           0.003723624327678941
          ],
          [
           0,
           0.9056047197640118,
           0,
           0.9557522123893806,
           0,
           0.011799410029498525,
           0.8820058997050148,
           0.014749262536873156,
           0.05309734513274336,
           0.07964601769911504,
           1,
           0.0855457227138643,
           0.11799410029498525,
           0,
           0.11209439528023599,
           0.32448377581120946,
           0.017699115044247787
          ],
          [
           0.01119606772255598,
           0.843801201529219,
           0.0010922992900054614,
           0.9478427089022392,
           0.0005461496450027307,
           0.009830693610049153,
           0.2498634625887493,
           0.035226652102676136,
           0.244401966138722,
           0.12042599672310213,
           0.007919169852539596,
           1,
           0.04451119606772255,
           0.0008192244675040961,
           0.747405789186237,
           0.7610595303113052,
           0.00354997269251775
          ],
          [
           0.011641443538998836,
           0.8661233993015134,
           0.0034924330616996507,
           0.7951105937136205,
           0,
           0.011641443538998836,
           0.239813736903376,
           0.047729918509895226,
           0.10360884749708964,
           0.08614668218859138,
           0.046565774155995346,
           0.18975552968568102,
           1,
           0.004656577415599534,
           0.2619324796274738,
           0.3760186263096624,
           0.015133876600698487
          ],
          [
           0.02040816326530612,
           0.8673469387755102,
           0.01020408163265306,
           1,
           0,
           0,
           0.030612244897959183,
           0,
           0.08163265306122448,
           0.1326530612244898,
           0,
           0.030612244897959183,
           0.04081632653061224,
           1,
           0.22448979591836735,
           0.02040816326530612,
           0.01020408163265306
          ],
          [
           0.009644999189495867,
           0.7416112822175394,
           0.00259361322742746,
           0.9717944561517263,
           0.0019452099205705948,
           0.0019452099205705948,
           0.22029502350461988,
           0.05446587777597666,
           0.2737072459069541,
           0.20197763008591343,
           0.0030799157075701088,
           0.22183498135840493,
           0.018236343005349327,
           0.0017831090938563786,
           1,
           0.4892202950235046,
           0.005268276868212028
          ],
          [
           0.004457652303120356,
           0.779470034670629,
           0.0012382367508667657,
           0.95752847944527,
           0.0006191183754333828,
           0.007305596830113918,
           0.2633729569093611,
           0.04878652798415057,
           0.1602278355621595,
           0.17112431896978703,
           0.013620604259534423,
           0.3450965824665676,
           0.03999504705299653,
           0.00024764735017335313,
           0.7473997028231798,
           1,
           0.018697374938088162
          ],
          [
           0.0058823529411764705,
           0.9058823529411765,
           0.020588235294117647,
           1,
           0,
           0,
           0.14411764705882352,
           0.014705882352941176,
           0.17058823529411765,
           0.07941176470588235,
           0.01764705882352941,
           0.03823529411764706,
           0.03823529411764706,
           0.0029411764705882353,
           0.19117647058823528,
           0.4441176470588235,
           1
          ]
         ]
        }
       ],
       "layout": {}
      },
      "text/html": [
       "<div id=\"5894aa10-03e7-4bcf-805c-fd96cf6892c7\" style=\"height: 525px; width: 100%;\" class=\"plotly-graph-div\"></div><script type=\"text/javascript\">require([\"plotly\"], function(Plotly) { window.PLOTLYENV=window.PLOTLYENV || {};window.PLOTLYENV.BASE_URL=\"https://plot.ly\";Plotly.newPlot(\"5894aa10-03e7-4bcf-805c-fd96cf6892c7\", [{\"y\": [\"slash_burn\", \"clear\", \"blooming\", \"primary\", \"cloudy\", \"conventional_mine\", \"water\", \"haze\", \"cultivation\", \"partly_cloudy\", \"artisinal_mine\", \"habitation\", \"bare_ground\", \"blow_down\", \"agriculture\", \"road\", \"selective_logging\"], \"x\": [\"slash_burn\", \"clear\", \"blooming\", \"primary\", \"cloudy\", \"conventional_mine\", \"water\", \"haze\", \"cultivation\", \"partly_cloudy\", \"artisinal_mine\", \"habitation\", \"bare_ground\", \"blow_down\", \"agriculture\", \"road\", \"selective_logging\"], \"z\": [[1.0, 0.8277511961722488, 0.009569377990430622, 1.0, 0.0, 0.0, 0.11483253588516747, 0.014354066985645933, 0.6028708133971292, 0.15789473684210525, 0.0, 0.19617224880382775, 0.04784688995215311, 0.009569377990430622, 0.569377990430622, 0.1722488038277512, 0.009569377990430622], [0.006134099209303975, 1.0, 0.011027195688401943, 0.9810303868382796, 0.0, 0.002482005460412013, 0.18710775449420275, 0.0, 0.1250576179839024, 0.0, 0.010885366804949828, 0.10956281246675885, 0.026380172322093394, 0.0030138637733574444, 0.3244335708967131, 0.22320320533276602, 0.010920824025812856], [0.006024096385542169, 0.9367469879518072, 1.0, 1.0, 0.0, 0.0, 0.04819277108433735, 0.012048192771084338, 0.10542168674698796, 0.05120481927710843, 0.0, 0.012048192771084338, 0.009036144578313253, 0.0030120481927710845, 0.0963855421686747, 0.030120481927710843, 0.02108433734939759], [0.005523255813953488, 0.7311839323467231, 0.008773784355179705, 1.0, 0.008747357293868921, 0.002484143763213531, 0.18649577167019027, 0.07050739957716702, 0.11773255813953488, 0.189561310782241, 0.008562367864693447, 0.09172832980972516, 0.01804968287526427, 0.0025898520084566595, 0.3168604651162791, 0.20436046511627906, 0.008985200845665961], [0.0, 0.0, 0.0, 0.14206008583690988, 1.0, 0.0, 0.03648068669527897, 0.0, 0.0, 0.0, 0.0, 0.0008583690987124463, 0.0, 0.0, 0.010300429184549357, 0.002145922746781116, 0.0], [0.0, 0.7, 0.0, 0.94, 0.0, 1.0, 0.26, 0.02, 0.04, 0.28, 0.04, 0.36, 0.1, 0.0, 0.24, 0.59, 0.0], [0.0033048746901679976, 0.7266593225006885, 0.002203249793445332, 0.9717708620214817, 0.011704764527678326, 0.0035802809143486644, 1.0, 0.08441200771137428, 0.11952630129440925, 0.17722390526025888, 0.04117323051500964, 0.1259983475626549, 0.02836684109060865, 0.0004131093362709997, 0.3742770586615258, 0.2928945194161388, 0.006747452492426329], [0.0011131725417439704, 0.0, 0.001484230055658627, 0.9899814471243042, 0.0, 0.0007421150278293135, 0.2274582560296846, 1.0, 0.07495361781076067, 0.0, 0.0018552875695732839, 0.04786641929499073, 0.015213358070500928, 0.0, 0.24935064935064935, 0.14619666048237476, 0.0018552875695732839], [0.028143846325664506, 0.7878043332588787, 0.007817735090462363, 0.995085995085995, 0.0, 0.0008934554389099843, 0.1938798302434666, 0.04511949966495421, 1.0, 0.16707616707616707, 0.0040205494750949295, 0.199910654456109, 0.019879383515747154, 0.0017869108778199687, 0.7542997542997543, 0.28903283448737993, 0.012955103864194774], [0.004551096400496483, 0.0, 0.00234450420631637, 0.989242863053372, 0.0, 0.0038615363398151977, 0.17749275961936284, 0.0, 0.10315818507792028, 1.0, 0.003723624327678941, 0.06081919735208937, 0.010205488898083023, 0.0017928561577713418, 0.3436767342435526, 0.19059440077230727, 0.003723624327678941], [0.0, 0.9056047197640118, 0.0, 0.9557522123893806, 0.0, 0.011799410029498525, 0.8820058997050148, 0.014749262536873156, 0.05309734513274336, 0.07964601769911504, 1.0, 0.0855457227138643, 0.11799410029498525, 0.0, 0.11209439528023599, 0.32448377581120946, 0.017699115044247787], [0.01119606772255598, 0.843801201529219, 0.0010922992900054614, 0.9478427089022392, 0.0005461496450027307, 0.009830693610049153, 0.2498634625887493, 0.035226652102676136, 0.244401966138722, 0.12042599672310213, 0.007919169852539596, 1.0, 0.04451119606772255, 0.0008192244675040961, 0.747405789186237, 0.7610595303113052, 0.00354997269251775], [0.011641443538998836, 0.8661233993015134, 0.0034924330616996507, 0.7951105937136205, 0.0, 0.011641443538998836, 0.239813736903376, 0.047729918509895226, 0.10360884749708964, 0.08614668218859138, 0.046565774155995346, 0.18975552968568102, 1.0, 0.004656577415599534, 0.2619324796274738, 0.3760186263096624, 0.015133876600698487], [0.02040816326530612, 0.8673469387755102, 0.01020408163265306, 1.0, 0.0, 0.0, 0.030612244897959183, 0.0, 0.08163265306122448, 0.1326530612244898, 0.0, 0.030612244897959183, 0.04081632653061224, 1.0, 0.22448979591836735, 0.02040816326530612, 0.01020408163265306], [0.009644999189495867, 0.7416112822175394, 0.00259361322742746, 0.9717944561517263, 0.0019452099205705948, 0.0019452099205705948, 0.22029502350461988, 0.05446587777597666, 0.2737072459069541, 0.20197763008591343, 0.0030799157075701088, 0.22183498135840493, 0.018236343005349327, 0.0017831090938563786, 1.0, 0.4892202950235046, 0.005268276868212028], [0.004457652303120356, 0.779470034670629, 0.0012382367508667657, 0.95752847944527, 0.0006191183754333828, 0.007305596830113918, 0.2633729569093611, 0.04878652798415057, 0.1602278355621595, 0.17112431896978703, 0.013620604259534423, 0.3450965824665676, 0.03999504705299653, 0.00024764735017335313, 0.7473997028231798, 1.0, 0.018697374938088162], [0.0058823529411764705, 0.9058823529411765, 0.020588235294117647, 1.0, 0.0, 0.0, 0.14411764705882352, 0.014705882352941176, 0.17058823529411765, 0.07941176470588235, 0.01764705882352941, 0.03823529411764706, 0.03823529411764706, 0.0029411764705882353, 0.19117647058823528, 0.4441176470588235, 1.0]], \"type\": \"heatmap\"}], {}, {\"linkText\": \"Export to plot.ly\", \"showLink\": true})});</script>"
      ],
      "text/vnd.plotly.v1+html": [
       "<div id=\"5894aa10-03e7-4bcf-805c-fd96cf6892c7\" style=\"height: 525px; width: 100%;\" class=\"plotly-graph-div\"></div><script type=\"text/javascript\">require([\"plotly\"], function(Plotly) { window.PLOTLYENV=window.PLOTLYENV || {};window.PLOTLYENV.BASE_URL=\"https://plot.ly\";Plotly.newPlot(\"5894aa10-03e7-4bcf-805c-fd96cf6892c7\", [{\"y\": [\"slash_burn\", \"clear\", \"blooming\", \"primary\", \"cloudy\", \"conventional_mine\", \"water\", \"haze\", \"cultivation\", \"partly_cloudy\", \"artisinal_mine\", \"habitation\", \"bare_ground\", \"blow_down\", \"agriculture\", \"road\", \"selective_logging\"], \"x\": [\"slash_burn\", \"clear\", \"blooming\", \"primary\", \"cloudy\", \"conventional_mine\", \"water\", \"haze\", \"cultivation\", \"partly_cloudy\", \"artisinal_mine\", \"habitation\", \"bare_ground\", \"blow_down\", \"agriculture\", \"road\", \"selective_logging\"], \"z\": [[1.0, 0.8277511961722488, 0.009569377990430622, 1.0, 0.0, 0.0, 0.11483253588516747, 0.014354066985645933, 0.6028708133971292, 0.15789473684210525, 0.0, 0.19617224880382775, 0.04784688995215311, 0.009569377990430622, 0.569377990430622, 0.1722488038277512, 0.009569377990430622], [0.006134099209303975, 1.0, 0.011027195688401943, 0.9810303868382796, 0.0, 0.002482005460412013, 0.18710775449420275, 0.0, 0.1250576179839024, 0.0, 0.010885366804949828, 0.10956281246675885, 0.026380172322093394, 0.0030138637733574444, 0.3244335708967131, 0.22320320533276602, 0.010920824025812856], [0.006024096385542169, 0.9367469879518072, 1.0, 1.0, 0.0, 0.0, 0.04819277108433735, 0.012048192771084338, 0.10542168674698796, 0.05120481927710843, 0.0, 0.012048192771084338, 0.009036144578313253, 0.0030120481927710845, 0.0963855421686747, 0.030120481927710843, 0.02108433734939759], [0.005523255813953488, 0.7311839323467231, 0.008773784355179705, 1.0, 0.008747357293868921, 0.002484143763213531, 0.18649577167019027, 0.07050739957716702, 0.11773255813953488, 0.189561310782241, 0.008562367864693447, 0.09172832980972516, 0.01804968287526427, 0.0025898520084566595, 0.3168604651162791, 0.20436046511627906, 0.008985200845665961], [0.0, 0.0, 0.0, 0.14206008583690988, 1.0, 0.0, 0.03648068669527897, 0.0, 0.0, 0.0, 0.0, 0.0008583690987124463, 0.0, 0.0, 0.010300429184549357, 0.002145922746781116, 0.0], [0.0, 0.7, 0.0, 0.94, 0.0, 1.0, 0.26, 0.02, 0.04, 0.28, 0.04, 0.36, 0.1, 0.0, 0.24, 0.59, 0.0], [0.0033048746901679976, 0.7266593225006885, 0.002203249793445332, 0.9717708620214817, 0.011704764527678326, 0.0035802809143486644, 1.0, 0.08441200771137428, 0.11952630129440925, 0.17722390526025888, 0.04117323051500964, 0.1259983475626549, 0.02836684109060865, 0.0004131093362709997, 0.3742770586615258, 0.2928945194161388, 0.006747452492426329], [0.0011131725417439704, 0.0, 0.001484230055658627, 0.9899814471243042, 0.0, 0.0007421150278293135, 0.2274582560296846, 1.0, 0.07495361781076067, 0.0, 0.0018552875695732839, 0.04786641929499073, 0.015213358070500928, 0.0, 0.24935064935064935, 0.14619666048237476, 0.0018552875695732839], [0.028143846325664506, 0.7878043332588787, 0.007817735090462363, 0.995085995085995, 0.0, 0.0008934554389099843, 0.1938798302434666, 0.04511949966495421, 1.0, 0.16707616707616707, 0.0040205494750949295, 0.199910654456109, 0.019879383515747154, 0.0017869108778199687, 0.7542997542997543, 0.28903283448737993, 0.012955103864194774], [0.004551096400496483, 0.0, 0.00234450420631637, 0.989242863053372, 0.0, 0.0038615363398151977, 0.17749275961936284, 0.0, 0.10315818507792028, 1.0, 0.003723624327678941, 0.06081919735208937, 0.010205488898083023, 0.0017928561577713418, 0.3436767342435526, 0.19059440077230727, 0.003723624327678941], [0.0, 0.9056047197640118, 0.0, 0.9557522123893806, 0.0, 0.011799410029498525, 0.8820058997050148, 0.014749262536873156, 0.05309734513274336, 0.07964601769911504, 1.0, 0.0855457227138643, 0.11799410029498525, 0.0, 0.11209439528023599, 0.32448377581120946, 0.017699115044247787], [0.01119606772255598, 0.843801201529219, 0.0010922992900054614, 0.9478427089022392, 0.0005461496450027307, 0.009830693610049153, 0.2498634625887493, 0.035226652102676136, 0.244401966138722, 0.12042599672310213, 0.007919169852539596, 1.0, 0.04451119606772255, 0.0008192244675040961, 0.747405789186237, 0.7610595303113052, 0.00354997269251775], [0.011641443538998836, 0.8661233993015134, 0.0034924330616996507, 0.7951105937136205, 0.0, 0.011641443538998836, 0.239813736903376, 0.047729918509895226, 0.10360884749708964, 0.08614668218859138, 0.046565774155995346, 0.18975552968568102, 1.0, 0.004656577415599534, 0.2619324796274738, 0.3760186263096624, 0.015133876600698487], [0.02040816326530612, 0.8673469387755102, 0.01020408163265306, 1.0, 0.0, 0.0, 0.030612244897959183, 0.0, 0.08163265306122448, 0.1326530612244898, 0.0, 0.030612244897959183, 0.04081632653061224, 1.0, 0.22448979591836735, 0.02040816326530612, 0.01020408163265306], [0.009644999189495867, 0.7416112822175394, 0.00259361322742746, 0.9717944561517263, 0.0019452099205705948, 0.0019452099205705948, 0.22029502350461988, 0.05446587777597666, 0.2737072459069541, 0.20197763008591343, 0.0030799157075701088, 0.22183498135840493, 0.018236343005349327, 0.0017831090938563786, 1.0, 0.4892202950235046, 0.005268276868212028], [0.004457652303120356, 0.779470034670629, 0.0012382367508667657, 0.95752847944527, 0.0006191183754333828, 0.007305596830113918, 0.2633729569093611, 0.04878652798415057, 0.1602278355621595, 0.17112431896978703, 0.013620604259534423, 0.3450965824665676, 0.03999504705299653, 0.00024764735017335313, 0.7473997028231798, 1.0, 0.018697374938088162], [0.0058823529411764705, 0.9058823529411765, 0.020588235294117647, 1.0, 0.0, 0.0, 0.14411764705882352, 0.014705882352941176, 0.17058823529411765, 0.07941176470588235, 0.01764705882352941, 0.03823529411764706, 0.03823529411764706, 0.0029411764705882353, 0.19117647058823528, 0.4441176470588235, 1.0]], \"type\": \"heatmap\"}], {}, {\"linkText\": \"Export to plot.ly\", \"showLink\": true})});</script>"
      ]
     },
     "metadata": {},
     "output_type": "display_data"
    }
   ],
   "source": [
    "# Co-occurence Matrix\n",
    "com = np.zeros([len(counts)]*2)\n",
    "\n",
    "for i, l in enumerate(list(counts.keys())):\n",
    "    for i2, l2 in enumerate(list(counts.keys())):\n",
    "        c = 0.0\n",
    "        cy = 0.0\n",
    "        for row in labels.values:\n",
    "            if l in row:\n",
    "                c += 1\n",
    "                if l2 in row: \n",
    "                    cy += 1        \n",
    "        com[i, i2] = (cy / c)\n",
    "\n",
    "data=[go.Heatmap(z=com, x=list(counts.keys()), y=list(counts.keys()))]\n",
    "py.iplot(data, filename='train-com')"
   ]
  },
  {
   "cell_type": "code",
   "execution_count": 6,
   "metadata": {
    "collapsed": true
   },
   "outputs": [],
   "source": [
    "def load_image(path):\n",
    "    image = Image.open(path)\n",
    "    image.show()\n",
    "    print image.size #Get the width and hight of the image for iterating over\n",
    "    rgb_data = np.array(image.getdata())\n",
    "\n",
    "    # extract the different bands\n",
    "    r, g, b = rgb_data[:,0], rgb_data[:,1], rgb_data[:,2]\n",
    "    return r,g,b"
   ]
  },
  {
   "cell_type": "code",
   "execution_count": 7,
   "metadata": {
    "collapsed": true
   },
   "outputs": [],
   "source": [
    "def plot_rgbn_histo(r, g, b):\n",
    "    for slice_, name, color in ((r,'r', 'red'),(g,'g', 'green'),(b,'b', 'blue')):\n",
    "        plt.hist(slice_.ravel(), bins=50, \n",
    "                 range=[0,255], \n",
    "                 label=name, color=color, histtype='step')\n",
    "    plt.legend()"
   ]
  },
  {
   "cell_type": "code",
   "execution_count": 14,
   "metadata": {},
   "outputs": [
    {
     "name": "stdout",
     "output_type": "stream",
     "text": [
      "(256, 256)\n"
     ]
    },
    {
     "data": {
      "image/png": "[encoded data removed]",
      "text/plain": [
       "<matplotlib.figure.Figure at 0x1114b6a10>"
      ]
     },
     "metadata": {},
     "output_type": "display_data"
    }
   ],
   "source": [
    "r1,g1,b1 = load_image('train-jpg/train_1.jpg')\n",
    "plot_rgbn_histo(r1,g1,b1)"
   ]
  },
  {
   "cell_type": "code",
   "execution_count": 15,
   "metadata": {},
   "outputs": [
    {
     "name": "stdout",
     "output_type": "stream",
     "text": [
      "(256, 256)\n"
     ]
    },
    {
     "data": {
      "image/png": "[encoded data removed]",
      "text/plain": [
       "<matplotlib.figure.Figure at 0x10ca3fe90>"
      ]
     },
     "metadata": {},
     "output_type": "display_data"
    }
   ],
   "source": [
    "r12,g12,b12 = load_image('train-jpg/train_12.jpg')    \n",
    "plot_rgbn_histo(r12,g12,b12)"
   ]
  },
  {
   "cell_type": "code",
   "execution_count": 16,
   "metadata": {},
   "outputs": [
    {
     "name": "stdout",
     "output_type": "stream",
     "text": [
      "(256, 256)\n"
     ]
    },
    {
     "data": {
      "image/png": "[encoded data removed]",
      "text/plain": [
       "<matplotlib.figure.Figure at 0x111482050>"
      ]
     },
     "metadata": {},
     "output_type": "display_data"
    }
   ],
   "source": [
    "r24,g24,b24 = load_image('train-jpg/train_24.jpg')    \n",
    "plot_rgbn_histo(r24,g24,b24)"
   ]
  },
  {
   "cell_type": "code",
   "execution_count": 17,
   "metadata": {},
   "outputs": [
    {
     "name": "stdout",
     "output_type": "stream",
     "text": [
      "[1 0 1]\n"
     ]
    }
   ],
   "source": [
    "bla = (np.array([1, 0, 1]) + np.array([0, 0, 1]) + np.array([1, 1, 1]))\n",
    "print bla/2"
   ]
  },
  {
   "cell_type": "code",
   "execution_count": null,
   "metadata": {
    "collapsed": true
   },
   "outputs": [],
   "source": []
  }
 ],
 "metadata": {
  "kernelspec": {
   "display_name": "Python 2",
   "language": "python",
   "name": "python2"
  },
  "language_info": {
   "codemirror_mode": {
    "name": "ipython",
    "version": 2
   },
   "file_extension": ".py",
   "mimetype": "text/x-python",
   "name": "python",
   "nbconvert_exporter": "python",
   "pygments_lexer": "ipython2",
   "version": "2.7.6"
  }
 },
 "nbformat": 4,
 "nbformat_minor": 1
}
