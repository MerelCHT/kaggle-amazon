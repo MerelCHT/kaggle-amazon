{
 "cells": [
  {
   "cell_type": "code",
   "execution_count": 1,
   "metadata": {
    "collapsed": false
   },
   "outputs": [
    {
     "data": {
      "text/html": [
       "<script>requirejs.config({paths: { 'plotly': ['https://cdn.plot.ly/plotly-latest.min']},});if(!window.Plotly) {{require(['plotly'],function(plotly) {window.Plotly=plotly;});}}</script>"
      ],
      "text/vnd.plotly.v1+html": [
       "<script>requirejs.config({paths: { 'plotly': ['https://cdn.plot.ly/plotly-latest.min']},});if(!window.Plotly) {{require(['plotly'],function(plotly) {window.Plotly=plotly;});}}</script>"
      ]
     },
     "metadata": {},
     "output_type": "display_data"
    }
   ],
   "source": [
    "%matplotlib inline\n",
    "from PIL import Image\n",
    "import numpy as np # linear algebra\n",
    "import pandas as pd # data processing, CSV file I/O (e.g. pd.read_csv)\n",
    "import matplotlib.pyplot as plt\n",
    "import plotly.offline as py\n",
    "py.init_notebook_mode(connected=True)\n",
    "import plotly.graph_objs as go\n",
    "import plotly.tools as tls\n",
    "from collections import defaultdict\n",
    "\n",
    "from sklearn.multiclass import OneVsRestClassifier\n",
    "from sklearn.linear_model import LogisticRegression\n",
    "from sklearn.model_selection import GridSearchCV, train_test_split\n",
    "from sklearn.preprocessing import MultiLabelBinarizer, MinMaxScaler\n",
    "from sklearn.metrics import fbeta_score, precision_score, make_scorer, average_precision_score\n",
    "from sklearn.neural_network import MLPClassifier\n",
    "import cv2\n",
    "import warnings"
   ]
  },
  {
   "cell_type": "code",
   "execution_count": 2,
   "metadata": {
    "collapsed": false
   },
   "outputs": [
    {
     "data": {
      "text/html": [
       "<div>\n",
       "<table border=\"1\" class=\"dataframe\">\n",
       "  <thead>\n",
       "    <tr style=\"text-align: right;\">\n",
       "      <th></th>\n",
       "      <th>image_name</th>\n",
       "      <th>tags</th>\n",
       "    </tr>\n",
       "  </thead>\n",
       "  <tbody>\n",
       "    <tr>\n",
       "      <th>0</th>\n",
       "      <td>train_0</td>\n",
       "      <td>haze primary</td>\n",
       "    </tr>\n",
       "    <tr>\n",
       "      <th>1</th>\n",
       "      <td>train_1</td>\n",
       "      <td>agriculture clear primary water</td>\n",
       "    </tr>\n",
       "    <tr>\n",
       "      <th>2</th>\n",
       "      <td>train_2</td>\n",
       "      <td>clear primary</td>\n",
       "    </tr>\n",
       "    <tr>\n",
       "      <th>3</th>\n",
       "      <td>train_3</td>\n",
       "      <td>clear primary</td>\n",
       "    </tr>\n",
       "    <tr>\n",
       "      <th>4</th>\n",
       "      <td>train_4</td>\n",
       "      <td>agriculture clear habitation primary road</td>\n",
       "    </tr>\n",
       "    <tr>\n",
       "      <th>5</th>\n",
       "      <td>train_5</td>\n",
       "      <td>haze primary water</td>\n",
       "    </tr>\n",
       "    <tr>\n",
       "      <th>6</th>\n",
       "      <td>train_6</td>\n",
       "      <td>agriculture clear cultivation primary water</td>\n",
       "    </tr>\n",
       "    <tr>\n",
       "      <th>7</th>\n",
       "      <td>train_7</td>\n",
       "      <td>haze primary</td>\n",
       "    </tr>\n",
       "    <tr>\n",
       "      <th>8</th>\n",
       "      <td>train_8</td>\n",
       "      <td>agriculture clear cultivation primary</td>\n",
       "    </tr>\n",
       "    <tr>\n",
       "      <th>9</th>\n",
       "      <td>train_9</td>\n",
       "      <td>agriculture clear cultivation primary road</td>\n",
       "    </tr>\n",
       "  </tbody>\n",
       "</table>\n",
       "</div>"
      ],
      "text/plain": [
       "  image_name                                         tags\n",
       "0    train_0                                 haze primary\n",
       "1    train_1              agriculture clear primary water\n",
       "2    train_2                                clear primary\n",
       "3    train_3                                clear primary\n",
       "4    train_4    agriculture clear habitation primary road\n",
       "5    train_5                           haze primary water\n",
       "6    train_6  agriculture clear cultivation primary water\n",
       "7    train_7                                 haze primary\n",
       "8    train_8        agriculture clear cultivation primary\n",
       "9    train_9   agriculture clear cultivation primary road"
      ]
     },
     "execution_count": 2,
     "metadata": {},
     "output_type": "execute_result"
    }
   ],
   "source": [
    "path = '/Users/theisenm'\n",
    "df = pd.read_csv(path + '/Dropbox/Kaggle/train_v2.csv')\n",
    "#df = pd.read_csv('/Users/theisenm/Downloads/train.csv')\n",
    "df.head(10)"
   ]
  },
  {
   "cell_type": "code",
   "execution_count": 3,
   "metadata": {
    "collapsed": true
   },
   "outputs": [],
   "source": [
    "labels = df['tags'].apply(lambda x: x.split(' '))\n",
    "counts = defaultdict(int)\n",
    "for labelline in labels:\n",
    "    for l in labelline:\n",
    "        counts[l] += 1"
   ]
  },
  {
   "cell_type": "code",
   "execution_count": 4,
   "metadata": {
    "collapsed": false
   },
   "outputs": [
    {
     "name": "stdout",
     "output_type": "stream",
     "text": [
      "['slash_burn', 'clear', 'blooming', 'primary', 'cloudy', 'conventional_mine', 'water', 'haze', 'cultivation', 'partly_cloudy', 'artisinal_mine', 'habitation', 'bare_ground', 'blow_down', 'agriculture', 'road', 'selective_logging']\n"
     ]
    }
   ],
   "source": [
    "print counts.keys()"
   ]
  },
  {
   "cell_type": "code",
   "execution_count": 5,
   "metadata": {
    "collapsed": false
   },
   "outputs": [
    {
     "name": "stdout",
     "output_type": "stream",
     "text": [
      "[209, 28431, 332, 37513, 2089, 100, 7411, 2697, 4547, 7261, 339, 3660, 862, 101, 12315, 8071, 340]\n"
     ]
    }
   ],
   "source": [
    "print counts.values()"
   ]
  },
  {
   "cell_type": "code",
   "execution_count": 6,
   "metadata": {
    "collapsed": false
   },
   "outputs": [
    {
     "data": {
      "text/plain": [
       "([<matplotlib.axis.XTick at 0x113591610>,\n",
       "  <matplotlib.axis.XTick at 0x113591a90>,\n",
       "  <matplotlib.axis.XTick at 0x1135d90d0>,\n",
       "  <matplotlib.axis.XTick at 0x11364a850>,\n",
       "  <matplotlib.axis.XTick at 0x11364af90>,\n",
       "  <matplotlib.axis.XTick at 0x113659710>,\n",
       "  <matplotlib.axis.XTick at 0x113659e50>,\n",
       "  <matplotlib.axis.XTick at 0x1136645d0>,\n",
       "  <matplotlib.axis.XTick at 0x113664d10>,\n",
       "  <matplotlib.axis.XTick at 0x11366e490>,\n",
       "  <matplotlib.axis.XTick at 0x11366ebd0>,\n",
       "  <matplotlib.axis.XTick at 0x11366eed0>,\n",
       "  <matplotlib.axis.XTick at 0x113678a90>,\n",
       "  <matplotlib.axis.XTick at 0x113682210>,\n",
       "  <matplotlib.axis.XTick at 0x113682950>,\n",
       "  <matplotlib.axis.XTick at 0x11368d0d0>,\n",
       "  <matplotlib.axis.XTick at 0x11368d810>],\n",
       " <a list of 17 Text xticklabel objects>)"
      ]
     },
     "execution_count": 6,
     "metadata": {},
     "output_type": "execute_result"
    },
    {
     "data": {
      "image/png": "[encoded data removed]",
      "text/plain": [
       "<matplotlib.figure.Figure at 0x10c141790>"
      ]
     },
     "metadata": {},
     "output_type": "display_data"
    }
   ],
   "source": [
    "plt.figure(figsize=(10, 4))  # width:20, height:3\n",
    "plt.bar(range(len(counts)), counts.values(), align='edge', width=0.8)\n",
    "plt.xticks(range(len(counts)), counts.keys(), rotation=60)"
   ]
  },
  {
   "cell_type": "code",
   "execution_count": 7,
   "metadata": {
    "collapsed": true
   },
   "outputs": [],
   "source": [
    "count = 0\n",
    "occ = defaultdict(int)\n",
    "for labelline in labels:\n",
    "    for l in labelline:\n",
    "        count += 1\n",
    "        l = count\n",
    "        occ[l] += 1\n",
    "    count = 0"
   ]
  },
  {
   "cell_type": "code",
   "execution_count": 8,
   "metadata": {
    "collapsed": false
   },
   "outputs": [
    {
     "name": "stdout",
     "output_type": "stream",
     "text": [
      "[1, 2, 3, 4, 5, 6, 7, 8, 9]\n",
      "[40479, 38388, 19212, 12020, 4849, 1149, 153, 26, 2]\n"
     ]
    }
   ],
   "source": [
    "print occ.keys()\n",
    "print occ.values()"
   ]
  },
  {
   "cell_type": "code",
   "execution_count": 9,
   "metadata": {
    "collapsed": false
   },
   "outputs": [
    {
     "data": {
      "text/plain": [
       "([<matplotlib.axis.XTick at 0x113704890>,\n",
       "  <matplotlib.axis.XTick at 0x11363bd10>,\n",
       "  <matplotlib.axis.XTick at 0x10c0d10d0>,\n",
       "  <matplotlib.axis.XTick at 0x1137a5d10>,\n",
       "  <matplotlib.axis.XTick at 0x1137b1490>,\n",
       "  <matplotlib.axis.XTick at 0x1137b1bd0>,\n",
       "  <matplotlib.axis.XTick at 0x1137ba350>,\n",
       "  <matplotlib.axis.XTick at 0x1137baa90>,\n",
       "  <matplotlib.axis.XTick at 0x1137c5210>],\n",
       " <a list of 9 Text xticklabel objects>)"
      ]
     },
     "execution_count": 9,
     "metadata": {},
     "output_type": "execute_result"
    },
    {
     "data": {
      "image/png": "[encoded data removed]",
      "text/plain": [
       "<matplotlib.figure.Figure at 0x112eda610>"
      ]
     },
     "metadata": {},
     "output_type": "display_data"
    }
   ],
   "source": [
    "plt.bar(range(len(occ)), occ.values())\n",
    "plt.xticks(range(len(occ)), occ.keys())"
   ]
  },
  {
   "cell_type": "code",
   "execution_count": 10,
   "metadata": {
    "collapsed": false
   },
   "outputs": [
    {
     "data": {
      "application/vnd.plotly.v1+json": {
       "data": [
        {
         "type": "heatmap",
         "x": [
          "slash_burn",
          "clear",
          "blooming",
          "primary",
          "cloudy",
          "conventional_mine",
          "water",
          "haze",
          "cultivation",
          "partly_cloudy",
          "artisinal_mine",
          "habitation",
          "bare_ground",
          "blow_down",
          "agriculture",
          "road",
          "selective_logging"
         ],
         "y": [
          "slash_burn",
          "clear",
          "blooming",
          "primary",
          "cloudy",
          "conventional_mine",
          "water",
          "haze",
          "cultivation",
          "partly_cloudy",
          "artisinal_mine",
          "habitation",
          "bare_ground",
          "blow_down",
          "agriculture",
          "road",
          "selective_logging"
         ],
         "z": [
          [
           1,
           0.8277511961722488,
           0.009569377990430622,
           1,
           0,
           0,
           0.11483253588516747,
           0.014354066985645933,
           0.6028708133971292,
           0.15789473684210525,
           0,
           0.19617224880382775,
           0.04784688995215311,
           0.009569377990430622,
           0.569377990430622,
           0.1722488038277512,
           0.009569377990430622
          ],
          [
           0.006084907319475221,
           1,
           0.010938764025183779,
           0.9731630966198868,
           0,
           0.0024621012275333263,
           0.19352115648411944,
           0,
           0.1240547289930006,
           0,
           0.010798072526467589,
           0.10868418275825684,
           0.026274137385248496,
           0.002989694347719039,
           0.3218318033132848,
           0.22141324610460414,
           0.010833245401146635
          ],
          [
           0.006024096385542169,
           0.9367469879518072,
           1,
           1,
           0,
           0,
           0.04819277108433735,
           0.012048192771084338,
           0.10542168674698796,
           0.05120481927710843,
           0,
           0.012048192771084338,
           0.009036144578313253,
           0.0030120481927710845,
           0.0963855421686747,
           0.030120481927710843,
           0.02108433734939759
          ],
          [
           0.005571401914003146,
           0.7375576466824834,
           0.008850265241382988,
           1,
           0,
           0.0025057979900301227,
           0.18662863540639246,
           0.07117532588702583,
           0.11875883027217231,
           0.19126702743049076,
           0.008637005837976169,
           0.09247460880228188,
           0.01820702156585717,
           0.0026124276917335325,
           0.31914269719830457,
           0.20600858369098712,
           0.009063524644789807
          ],
          [
           0,
           0,
           0,
           0,
           1,
           0,
           0,
           0,
           0,
           0,
           0,
           0,
           0,
           0,
           0,
           0,
           0
          ],
          [
           0,
           0.7,
           0,
           0.94,
           0,
           1,
           0.26,
           0.02,
           0.04,
           0.28,
           0.04,
           0.36,
           0.1,
           0,
           0.24,
           0.59,
           0
          ],
          [
           0.0032384293617595465,
           0.7424099311833761,
           0.002158952907839698,
           0.9446768317366078,
           0,
           0.0035082984752395087,
           1,
           0.08271488328160842,
           0.1171231952503036,
           0.17474025097827553,
           0.04034543246525435,
           0.12346511941708271,
           0.02779651868843611,
           0.0004048036702199433,
           0.36594251787882875,
           0.28673593307245987,
           0.006611793280259074
          ],
          [
           0.0011123470522803114,
           0,
           0.0014831294030404152,
           0.9899888765294772,
           0,
           0.0007415647015202076,
           0.22728958101594365,
           1,
           0.07489803485354098,
           0,
           0.0018539117538005192,
           0.047830923248053395,
           0.015202076381164257,
           0,
           0.24916573971078976,
           0.1460882461994809,
           0.0018539117538005192
          ],
          [
           0.028143846325664506,
           0.7878043332588787,
           0.007817735090462363,
           0.995085995085995,
           0,
           0.0008934554389099843,
           0.1938798302434666,
           0.04511949966495421,
           1,
           0.16707616707616707,
           0.0040205494750949295,
           0.199910654456109,
           0.019879383515747154,
           0.0017869108778199687,
           0.7542997542997543,
           0.28903283448737993,
           0.012955103864194774
          ],
          [
           0.004544828536014323,
           0,
           0.002341275306431621,
           0.988155901390993,
           0,
           0.0038562181517697285,
           0.17835008951934994,
           0,
           0.10301611348299132,
           1,
           0.00371849607492081,
           0.060735435890373224,
           0.010191433686819996,
           0.0017903869990359455,
           0.34334113758435475,
           0.1903319102052059,
           0.00371849607492081
          ],
          [
           0,
           0.9056047197640118,
           0,
           0.9557522123893806,
           0,
           0.011799410029498525,
           0.8820058997050148,
           0.014749262536873156,
           0.05309734513274336,
           0.07964601769911504,
           1,
           0.0855457227138643,
           0.11799410029498525,
           0,
           0.11209439528023599,
           0.32448377581120946,
           0.017699115044247787
          ],
          [
           0.011202185792349727,
           0.8442622950819673,
           0.001092896174863388,
           0.9478142076502732,
           0,
           0.009836065573770493,
           0.25,
           0.03524590163934426,
           0.24453551912568305,
           0.12049180327868853,
           0.007923497267759563,
           1,
           0.04453551912568306,
           0.000819672131147541,
           0.7478142076502732,
           0.7612021857923498,
           0.003551912568306011
          ],
          [
           0.01160092807424594,
           0.8665893271461717,
           0.0034802784222737818,
           0.7923433874709976,
           0,
           0.01160092807424594,
           0.23897911832946636,
           0.04756380510440835,
           0.10324825986078887,
           0.08584686774941995,
           0.04640371229698376,
           0.18909512761020883,
           1,
           0.004640371229698376,
           0.26102088167053367,
           0.37470997679814383,
           0.015081206496519721
          ],
          [
           0.02040816326530612,
           0.8673469387755102,
           0.01020408163265306,
           1,
           0,
           0,
           0.030612244897959183,
           0,
           0.08163265306122448,
           0.1326530612244898,
           0,
           0.030612244897959183,
           0.04081632653061224,
           1,
           0.22448979591836735,
           0.02040816326530612,
           0.01020408163265306
          ],
          [
           0.009663012586276899,
           0.7429963459196103,
           0.002598457166057653,
           0.9721477872513196,
           0,
           0.00194884287454324,
           0.22021924482338612,
           0.05456760048721072,
           0.2742184328055217,
           0.20243605359317904,
           0.0030856678846934633,
           0.22224928948436865,
           0.018270401948842874,
           0.0017864393016646365,
           1,
           0.4899715793747462,
           0.005278116118554608
          ],
          [
           0.0044604138272828645,
           0.7799529178540453,
           0.0012390038409119068,
           0.9575021682567216,
           0,
           0.0073101226613802505,
           0.2632883161937802,
           0.04881675133192913,
           0.16032709701400075,
           0.17123033081402553,
           0.013629042250030974,
           0.34518647007805725,
           0.040019824061454594,
           0.00024780076818238137,
           0.7476149176062445,
           1,
           0.018708957997769792
          ],
          [
           0.0058823529411764705,
           0.9058823529411765,
           0.020588235294117647,
           1,
           0,
           0,
           0.14411764705882352,
           0.014705882352941176,
           0.17058823529411765,
           0.07941176470588235,
           0.01764705882352941,
           0.03823529411764706,
           0.03823529411764706,
           0.0029411764705882353,
           0.19117647058823528,
           0.4441176470588235,
           1
          ]
         ]
        }
       ],
       "layout": {}
      },
      "text/html": [
       "<div id=\"c021964e-f8b3-428d-92b6-6322c02ae645\" style=\"height: 525px; width: 100%;\" class=\"plotly-graph-div\"></div><script type=\"text/javascript\">require([\"plotly\"], function(Plotly) { window.PLOTLYENV=window.PLOTLYENV || {};window.PLOTLYENV.BASE_URL=\"https://plot.ly\";Plotly.newPlot(\"c021964e-f8b3-428d-92b6-6322c02ae645\", [{\"y\": [\"slash_burn\", \"clear\", \"blooming\", \"primary\", \"cloudy\", \"conventional_mine\", \"water\", \"haze\", \"cultivation\", \"partly_cloudy\", \"artisinal_mine\", \"habitation\", \"bare_ground\", \"blow_down\", \"agriculture\", \"road\", \"selective_logging\"], \"x\": [\"slash_burn\", \"clear\", \"blooming\", \"primary\", \"cloudy\", \"conventional_mine\", \"water\", \"haze\", \"cultivation\", \"partly_cloudy\", \"artisinal_mine\", \"habitation\", \"bare_ground\", \"blow_down\", \"agriculture\", \"road\", \"selective_logging\"], \"z\": [[1.0, 0.8277511961722488, 0.009569377990430622, 1.0, 0.0, 0.0, 0.11483253588516747, 0.014354066985645933, 0.6028708133971292, 0.15789473684210525, 0.0, 0.19617224880382775, 0.04784688995215311, 0.009569377990430622, 0.569377990430622, 0.1722488038277512, 0.009569377990430622], [0.006084907319475221, 1.0, 0.010938764025183779, 0.9731630966198868, 0.0, 0.0024621012275333263, 0.19352115648411944, 0.0, 0.1240547289930006, 0.0, 0.010798072526467589, 0.10868418275825684, 0.026274137385248496, 0.002989694347719039, 0.3218318033132848, 0.22141324610460414, 0.010833245401146635], [0.006024096385542169, 0.9367469879518072, 1.0, 1.0, 0.0, 0.0, 0.04819277108433735, 0.012048192771084338, 0.10542168674698796, 0.05120481927710843, 0.0, 0.012048192771084338, 0.009036144578313253, 0.0030120481927710845, 0.0963855421686747, 0.030120481927710843, 0.02108433734939759], [0.005571401914003146, 0.7375576466824834, 0.008850265241382988, 1.0, 0.0, 0.0025057979900301227, 0.18662863540639246, 0.07117532588702583, 0.11875883027217231, 0.19126702743049076, 0.008637005837976169, 0.09247460880228188, 0.01820702156585717, 0.0026124276917335325, 0.31914269719830457, 0.20600858369098712, 0.009063524644789807], [0.0, 0.0, 0.0, 0.0, 1.0, 0.0, 0.0, 0.0, 0.0, 0.0, 0.0, 0.0, 0.0, 0.0, 0.0, 0.0, 0.0], [0.0, 0.7, 0.0, 0.94, 0.0, 1.0, 0.26, 0.02, 0.04, 0.28, 0.04, 0.36, 0.1, 0.0, 0.24, 0.59, 0.0], [0.0032384293617595465, 0.7424099311833761, 0.002158952907839698, 0.9446768317366078, 0.0, 0.0035082984752395087, 1.0, 0.08271488328160842, 0.1171231952503036, 0.17474025097827553, 0.04034543246525435, 0.12346511941708271, 0.02779651868843611, 0.0004048036702199433, 0.36594251787882875, 0.28673593307245987, 0.006611793280259074], [0.0011123470522803114, 0.0, 0.0014831294030404152, 0.9899888765294772, 0.0, 0.0007415647015202076, 0.22728958101594365, 1.0, 0.07489803485354098, 0.0, 0.0018539117538005192, 0.047830923248053395, 0.015202076381164257, 0.0, 0.24916573971078976, 0.1460882461994809, 0.0018539117538005192], [0.028143846325664506, 0.7878043332588787, 0.007817735090462363, 0.995085995085995, 0.0, 0.0008934554389099843, 0.1938798302434666, 0.04511949966495421, 1.0, 0.16707616707616707, 0.0040205494750949295, 0.199910654456109, 0.019879383515747154, 0.0017869108778199687, 0.7542997542997543, 0.28903283448737993, 0.012955103864194774], [0.004544828536014323, 0.0, 0.002341275306431621, 0.988155901390993, 0.0, 0.0038562181517697285, 0.17835008951934994, 0.0, 0.10301611348299132, 1.0, 0.00371849607492081, 0.060735435890373224, 0.010191433686819996, 0.0017903869990359455, 0.34334113758435475, 0.1903319102052059, 0.00371849607492081], [0.0, 0.9056047197640118, 0.0, 0.9557522123893806, 0.0, 0.011799410029498525, 0.8820058997050148, 0.014749262536873156, 0.05309734513274336, 0.07964601769911504, 1.0, 0.0855457227138643, 0.11799410029498525, 0.0, 0.11209439528023599, 0.32448377581120946, 0.017699115044247787], [0.011202185792349727, 0.8442622950819673, 0.001092896174863388, 0.9478142076502732, 0.0, 0.009836065573770493, 0.25, 0.03524590163934426, 0.24453551912568305, 0.12049180327868853, 0.007923497267759563, 1.0, 0.04453551912568306, 0.000819672131147541, 0.7478142076502732, 0.7612021857923498, 0.003551912568306011], [0.01160092807424594, 0.8665893271461717, 0.0034802784222737818, 0.7923433874709976, 0.0, 0.01160092807424594, 0.23897911832946636, 0.04756380510440835, 0.10324825986078887, 0.08584686774941995, 0.04640371229698376, 0.18909512761020883, 1.0, 0.004640371229698376, 0.26102088167053367, 0.37470997679814383, 0.015081206496519721], [0.02040816326530612, 0.8673469387755102, 0.01020408163265306, 1.0, 0.0, 0.0, 0.030612244897959183, 0.0, 0.08163265306122448, 0.1326530612244898, 0.0, 0.030612244897959183, 0.04081632653061224, 1.0, 0.22448979591836735, 0.02040816326530612, 0.01020408163265306], [0.009663012586276899, 0.7429963459196103, 0.002598457166057653, 0.9721477872513196, 0.0, 0.00194884287454324, 0.22021924482338612, 0.05456760048721072, 0.2742184328055217, 0.20243605359317904, 0.0030856678846934633, 0.22224928948436865, 0.018270401948842874, 0.0017864393016646365, 1.0, 0.4899715793747462, 0.005278116118554608], [0.0044604138272828645, 0.7799529178540453, 0.0012390038409119068, 0.9575021682567216, 0.0, 0.0073101226613802505, 0.2632883161937802, 0.04881675133192913, 0.16032709701400075, 0.17123033081402553, 0.013629042250030974, 0.34518647007805725, 0.040019824061454594, 0.00024780076818238137, 0.7476149176062445, 1.0, 0.018708957997769792], [0.0058823529411764705, 0.9058823529411765, 0.020588235294117647, 1.0, 0.0, 0.0, 0.14411764705882352, 0.014705882352941176, 0.17058823529411765, 0.07941176470588235, 0.01764705882352941, 0.03823529411764706, 0.03823529411764706, 0.0029411764705882353, 0.19117647058823528, 0.4441176470588235, 1.0]], \"type\": \"heatmap\"}], {}, {\"linkText\": \"Export to plot.ly\", \"showLink\": true})});</script>"
      ],
      "text/vnd.plotly.v1+html": [
       "<div id=\"c021964e-f8b3-428d-92b6-6322c02ae645\" style=\"height: 525px; width: 100%;\" class=\"plotly-graph-div\"></div><script type=\"text/javascript\">require([\"plotly\"], function(Plotly) { window.PLOTLYENV=window.PLOTLYENV || {};window.PLOTLYENV.BASE_URL=\"https://plot.ly\";Plotly.newPlot(\"c021964e-f8b3-428d-92b6-6322c02ae645\", [{\"y\": [\"slash_burn\", \"clear\", \"blooming\", \"primary\", \"cloudy\", \"conventional_mine\", \"water\", \"haze\", \"cultivation\", \"partly_cloudy\", \"artisinal_mine\", \"habitation\", \"bare_ground\", \"blow_down\", \"agriculture\", \"road\", \"selective_logging\"], \"x\": [\"slash_burn\", \"clear\", \"blooming\", \"primary\", \"cloudy\", \"conventional_mine\", \"water\", \"haze\", \"cultivation\", \"partly_cloudy\", \"artisinal_mine\", \"habitation\", \"bare_ground\", \"blow_down\", \"agriculture\", \"road\", \"selective_logging\"], \"z\": [[1.0, 0.8277511961722488, 0.009569377990430622, 1.0, 0.0, 0.0, 0.11483253588516747, 0.014354066985645933, 0.6028708133971292, 0.15789473684210525, 0.0, 0.19617224880382775, 0.04784688995215311, 0.009569377990430622, 0.569377990430622, 0.1722488038277512, 0.009569377990430622], [0.006084907319475221, 1.0, 0.010938764025183779, 0.9731630966198868, 0.0, 0.0024621012275333263, 0.19352115648411944, 0.0, 0.1240547289930006, 0.0, 0.010798072526467589, 0.10868418275825684, 0.026274137385248496, 0.002989694347719039, 0.3218318033132848, 0.22141324610460414, 0.010833245401146635], [0.006024096385542169, 0.9367469879518072, 1.0, 1.0, 0.0, 0.0, 0.04819277108433735, 0.012048192771084338, 0.10542168674698796, 0.05120481927710843, 0.0, 0.012048192771084338, 0.009036144578313253, 0.0030120481927710845, 0.0963855421686747, 0.030120481927710843, 0.02108433734939759], [0.005571401914003146, 0.7375576466824834, 0.008850265241382988, 1.0, 0.0, 0.0025057979900301227, 0.18662863540639246, 0.07117532588702583, 0.11875883027217231, 0.19126702743049076, 0.008637005837976169, 0.09247460880228188, 0.01820702156585717, 0.0026124276917335325, 0.31914269719830457, 0.20600858369098712, 0.009063524644789807], [0.0, 0.0, 0.0, 0.0, 1.0, 0.0, 0.0, 0.0, 0.0, 0.0, 0.0, 0.0, 0.0, 0.0, 0.0, 0.0, 0.0], [0.0, 0.7, 0.0, 0.94, 0.0, 1.0, 0.26, 0.02, 0.04, 0.28, 0.04, 0.36, 0.1, 0.0, 0.24, 0.59, 0.0], [0.0032384293617595465, 0.7424099311833761, 0.002158952907839698, 0.9446768317366078, 0.0, 0.0035082984752395087, 1.0, 0.08271488328160842, 0.1171231952503036, 0.17474025097827553, 0.04034543246525435, 0.12346511941708271, 0.02779651868843611, 0.0004048036702199433, 0.36594251787882875, 0.28673593307245987, 0.006611793280259074], [0.0011123470522803114, 0.0, 0.0014831294030404152, 0.9899888765294772, 0.0, 0.0007415647015202076, 0.22728958101594365, 1.0, 0.07489803485354098, 0.0, 0.0018539117538005192, 0.047830923248053395, 0.015202076381164257, 0.0, 0.24916573971078976, 0.1460882461994809, 0.0018539117538005192], [0.028143846325664506, 0.7878043332588787, 0.007817735090462363, 0.995085995085995, 0.0, 0.0008934554389099843, 0.1938798302434666, 0.04511949966495421, 1.0, 0.16707616707616707, 0.0040205494750949295, 0.199910654456109, 0.019879383515747154, 0.0017869108778199687, 0.7542997542997543, 0.28903283448737993, 0.012955103864194774], [0.004544828536014323, 0.0, 0.002341275306431621, 0.988155901390993, 0.0, 0.0038562181517697285, 0.17835008951934994, 0.0, 0.10301611348299132, 1.0, 0.00371849607492081, 0.060735435890373224, 0.010191433686819996, 0.0017903869990359455, 0.34334113758435475, 0.1903319102052059, 0.00371849607492081], [0.0, 0.9056047197640118, 0.0, 0.9557522123893806, 0.0, 0.011799410029498525, 0.8820058997050148, 0.014749262536873156, 0.05309734513274336, 0.07964601769911504, 1.0, 0.0855457227138643, 0.11799410029498525, 0.0, 0.11209439528023599, 0.32448377581120946, 0.017699115044247787], [0.011202185792349727, 0.8442622950819673, 0.001092896174863388, 0.9478142076502732, 0.0, 0.009836065573770493, 0.25, 0.03524590163934426, 0.24453551912568305, 0.12049180327868853, 0.007923497267759563, 1.0, 0.04453551912568306, 0.000819672131147541, 0.7478142076502732, 0.7612021857923498, 0.003551912568306011], [0.01160092807424594, 0.8665893271461717, 0.0034802784222737818, 0.7923433874709976, 0.0, 0.01160092807424594, 0.23897911832946636, 0.04756380510440835, 0.10324825986078887, 0.08584686774941995, 0.04640371229698376, 0.18909512761020883, 1.0, 0.004640371229698376, 0.26102088167053367, 0.37470997679814383, 0.015081206496519721], [0.02040816326530612, 0.8673469387755102, 0.01020408163265306, 1.0, 0.0, 0.0, 0.030612244897959183, 0.0, 0.08163265306122448, 0.1326530612244898, 0.0, 0.030612244897959183, 0.04081632653061224, 1.0, 0.22448979591836735, 0.02040816326530612, 0.01020408163265306], [0.009663012586276899, 0.7429963459196103, 0.002598457166057653, 0.9721477872513196, 0.0, 0.00194884287454324, 0.22021924482338612, 0.05456760048721072, 0.2742184328055217, 0.20243605359317904, 0.0030856678846934633, 0.22224928948436865, 0.018270401948842874, 0.0017864393016646365, 1.0, 0.4899715793747462, 0.005278116118554608], [0.0044604138272828645, 0.7799529178540453, 0.0012390038409119068, 0.9575021682567216, 0.0, 0.0073101226613802505, 0.2632883161937802, 0.04881675133192913, 0.16032709701400075, 0.17123033081402553, 0.013629042250030974, 0.34518647007805725, 0.040019824061454594, 0.00024780076818238137, 0.7476149176062445, 1.0, 0.018708957997769792], [0.0058823529411764705, 0.9058823529411765, 0.020588235294117647, 1.0, 0.0, 0.0, 0.14411764705882352, 0.014705882352941176, 0.17058823529411765, 0.07941176470588235, 0.01764705882352941, 0.03823529411764706, 0.03823529411764706, 0.0029411764705882353, 0.19117647058823528, 0.4441176470588235, 1.0]], \"type\": \"heatmap\"}], {}, {\"linkText\": \"Export to plot.ly\", \"showLink\": true})});</script>"
      ]
     },
     "metadata": {},
     "output_type": "display_data"
    }
   ],
   "source": [
    "# Co-occurence Matrix\n",
    "com = np.zeros([len(counts)]*2)\n",
    "\n",
    "for i, l in enumerate(list(counts.keys())):\n",
    "    for i2, l2 in enumerate(list(counts.keys())):\n",
    "        c = 0.0\n",
    "        cy = 0.0\n",
    "        for row in labels.values:\n",
    "            if l in row:\n",
    "                c += 1\n",
    "                if l2 in row: \n",
    "                    cy += 1        \n",
    "        com[i, i2] = (cy / c)\n",
    "\n",
    "data=[go.Heatmap(z=com, x=list(counts.keys()), y=list(counts.keys()))]\n",
    "py.iplot(data, filename='train-com')"
   ]
  },
  {
   "cell_type": "code",
   "execution_count": 11,
   "metadata": {
    "collapsed": true
   },
   "outputs": [],
   "source": [
    "def load_image(path):\n",
    "    image = Image.open(path)\n",
    "    image.show()\n",
    "    print image.size #Get the width and hight of the image for iterating over\n",
    "    rgb_data = np.array(image.getdata())\n",
    "\n",
    "    # extract the different bands\n",
    "    r, g, b = rgb_data[:,0], rgb_data[:,1], rgb_data[:,2]\n",
    "    return r,g,b"
   ]
  },
  {
   "cell_type": "code",
   "execution_count": 12,
   "metadata": {
    "collapsed": true
   },
   "outputs": [],
   "source": [
    "def plot_rgbn_histo(r, g, b):\n",
    "    for slice_, name, color in ((r,'r', 'red'),(g,'g', 'green'),(b,'b', 'blue')):\n",
    "        plt.hist(slice_.ravel(), bins=50, \n",
    "                 range=[0,255], \n",
    "                 label=name, color=color, histtype='step')\n",
    "    plt.legend()"
   ]
  },
  {
   "cell_type": "code",
   "execution_count": 13,
   "metadata": {
    "collapsed": false
   },
   "outputs": [
    {
     "ename": "IOError",
     "evalue": "[Errno 2] No such file or directory: 'train-jpg/train_1.jpg'",
     "output_type": "error",
     "traceback": [
      "\u001b[0;31m---------------------------------------------------------------------------\u001b[0m",
      "\u001b[0;31mIOError\u001b[0m                                   Traceback (most recent call last)",
      "\u001b[0;32m<ipython-input-13-ab44b1218f05>\u001b[0m in \u001b[0;36m<module>\u001b[0;34m()\u001b[0m\n\u001b[0;32m----> 1\u001b[0;31m \u001b[0mr1\u001b[0m\u001b[0;34m,\u001b[0m\u001b[0mg1\u001b[0m\u001b[0;34m,\u001b[0m\u001b[0mb1\u001b[0m \u001b[0;34m=\u001b[0m \u001b[0mload_image\u001b[0m\u001b[0;34m(\u001b[0m\u001b[0;34m'train-jpg/train_1.jpg'\u001b[0m\u001b[0;34m)\u001b[0m\u001b[0;34m\u001b[0m\u001b[0m\n\u001b[0m\u001b[1;32m      2\u001b[0m \u001b[0mplot_rgbn_histo\u001b[0m\u001b[0;34m(\u001b[0m\u001b[0mr1\u001b[0m\u001b[0;34m,\u001b[0m\u001b[0mg1\u001b[0m\u001b[0;34m,\u001b[0m\u001b[0mb1\u001b[0m\u001b[0;34m)\u001b[0m\u001b[0;34m\u001b[0m\u001b[0m\n",
      "\u001b[0;32m<ipython-input-11-5e34ea0cfd8a>\u001b[0m in \u001b[0;36mload_image\u001b[0;34m(path)\u001b[0m\n\u001b[1;32m      1\u001b[0m \u001b[0;32mdef\u001b[0m \u001b[0mload_image\u001b[0m\u001b[0;34m(\u001b[0m\u001b[0mpath\u001b[0m\u001b[0;34m)\u001b[0m\u001b[0;34m:\u001b[0m\u001b[0;34m\u001b[0m\u001b[0m\n\u001b[0;32m----> 2\u001b[0;31m     \u001b[0mimage\u001b[0m \u001b[0;34m=\u001b[0m \u001b[0mImage\u001b[0m\u001b[0;34m.\u001b[0m\u001b[0mopen\u001b[0m\u001b[0;34m(\u001b[0m\u001b[0mpath\u001b[0m\u001b[0;34m)\u001b[0m\u001b[0;34m\u001b[0m\u001b[0m\n\u001b[0m\u001b[1;32m      3\u001b[0m     \u001b[0mimage\u001b[0m\u001b[0;34m.\u001b[0m\u001b[0mshow\u001b[0m\u001b[0;34m(\u001b[0m\u001b[0;34m)\u001b[0m\u001b[0;34m\u001b[0m\u001b[0m\n\u001b[1;32m      4\u001b[0m     \u001b[0;32mprint\u001b[0m \u001b[0mimage\u001b[0m\u001b[0;34m.\u001b[0m\u001b[0msize\u001b[0m \u001b[0;31m#Get the width and hight of the image for iterating over\u001b[0m\u001b[0;34m\u001b[0m\u001b[0m\n\u001b[1;32m      5\u001b[0m     \u001b[0mrgb_data\u001b[0m \u001b[0;34m=\u001b[0m \u001b[0mnp\u001b[0m\u001b[0;34m.\u001b[0m\u001b[0marray\u001b[0m\u001b[0;34m(\u001b[0m\u001b[0mimage\u001b[0m\u001b[0;34m.\u001b[0m\u001b[0mgetdata\u001b[0m\u001b[0;34m(\u001b[0m\u001b[0;34m)\u001b[0m\u001b[0;34m)\u001b[0m\u001b[0;34m\u001b[0m\u001b[0m\n",
      "\u001b[0;32m/usr/local/lib/python2.7/site-packages/PIL/Image.pyc\u001b[0m in \u001b[0;36mopen\u001b[0;34m(fp, mode)\u001b[0m\n\u001b[1;32m   2408\u001b[0m \u001b[0;34m\u001b[0m\u001b[0m\n\u001b[1;32m   2409\u001b[0m     \u001b[0;32mif\u001b[0m \u001b[0mfilename\u001b[0m\u001b[0;34m:\u001b[0m\u001b[0;34m\u001b[0m\u001b[0m\n\u001b[0;32m-> 2410\u001b[0;31m         \u001b[0mfp\u001b[0m \u001b[0;34m=\u001b[0m \u001b[0mbuiltins\u001b[0m\u001b[0;34m.\u001b[0m\u001b[0mopen\u001b[0m\u001b[0;34m(\u001b[0m\u001b[0mfilename\u001b[0m\u001b[0;34m,\u001b[0m \u001b[0;34m\"rb\"\u001b[0m\u001b[0;34m)\u001b[0m\u001b[0;34m\u001b[0m\u001b[0m\n\u001b[0m\u001b[1;32m   2411\u001b[0m         \u001b[0mexclusive_fp\u001b[0m \u001b[0;34m=\u001b[0m \u001b[0mTrue\u001b[0m\u001b[0;34m\u001b[0m\u001b[0m\n\u001b[1;32m   2412\u001b[0m \u001b[0;34m\u001b[0m\u001b[0m\n",
      "\u001b[0;31mIOError\u001b[0m: [Errno 2] No such file or directory: 'train-jpg/train_1.jpg'"
     ]
    }
   ],
   "source": [
    "r1,g1,b1 = load_image('train-jpg/train_1.jpg')\n",
    "plot_rgbn_histo(r1,g1,b1)"
   ]
  },
  {
   "cell_type": "code",
   "execution_count": 15,
   "metadata": {
    "collapsed": false
   },
   "outputs": [
    {
     "name": "stdout",
     "output_type": "stream",
     "text": [
      "(256, 256)\n"
     ]
    },
    {
     "data": {
      "image/png": "[encoded data removed]",
      "text/plain": [
       "<matplotlib.figure.Figure at 0x10ca3fe90>"
      ]
     },
     "metadata": {},
     "output_type": "display_data"
    }
   ],
   "source": [
    "r12,g12,b12 = load_image('train-jpg/train_12.jpg')    \n",
    "plot_rgbn_histo(r12,g12,b12)"
   ]
  },
  {
   "cell_type": "code",
   "execution_count": 16,
   "metadata": {
    "collapsed": false
   },
   "outputs": [
    {
     "name": "stdout",
     "output_type": "stream",
     "text": [
      "(256, 256)\n"
     ]
    },
    {
     "data": {
      "image/png": "[encoded data removed]",
      "text/plain": [
       "<matplotlib.figure.Figure at 0x111482050>"
      ]
     },
     "metadata": {},
     "output_type": "display_data"
    }
   ],
   "source": [
    "r24,g24,b24 = load_image('train-jpg/train_24.jpg')    \n",
    "plot_rgbn_histo(r24,g24,b24)"
   ]
  },
  {
   "cell_type": "code",
   "execution_count": 17,
   "metadata": {
    "collapsed": false
   },
   "outputs": [
    {
     "name": "stdout",
     "output_type": "stream",
     "text": [
      "[1 0 1]\n"
     ]
    }
   ],
   "source": [
    "bla = (np.array([1, 0, 1]) + np.array([0, 0, 1]) + np.array([1, 1, 1]))\n",
    "print bla/2"
   ]
  },
  {
   "cell_type": "code",
   "execution_count": null,
   "metadata": {
    "collapsed": true
   },
   "outputs": [],
   "source": []
  }
 ],
 "metadata": {
  "kernelspec": {
   "display_name": "Python 2",
   "language": "python",
   "name": "python2"
  },
  "language_info": {
   "codemirror_mode": {
    "name": "ipython",
    "version": 2
   },
   "file_extension": ".py",
   "mimetype": "text/x-python",
   "name": "python",
   "nbconvert_exporter": "python",
   "pygments_lexer": "ipython2",
   "version": "2.7.10"
  }
 },
 "nbformat": 4,
 "nbformat_minor": 1
}
