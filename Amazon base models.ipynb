{
 "cells": [
  {
   "cell_type": "code",
   "execution_count": 1,
   "metadata": {},
   "outputs": [
    {
     "data": {
      "text/html": [
       "<script>requirejs.config({paths: { 'plotly': ['https://cdn.plot.ly/plotly-latest.min']},});if(!window.Plotly) {{require(['plotly'],function(plotly) {window.Plotly=plotly;});}}</script>"
      ],
      "text/vnd.plotly.v1+html": [
       "<script>requirejs.config({paths: { 'plotly': ['https://cdn.plot.ly/plotly-latest.min']},});if(!window.Plotly) {{require(['plotly'],function(plotly) {window.Plotly=plotly;});}}</script>"
      ]
     },
     "metadata": {},
     "output_type": "display_data"
    }
   ],
   "source": [
    "%matplotlib inline\n",
    "from PIL import Image\n",
    "import numpy as np # linear algebra\n",
    "import pandas as pd # data processing, CSV file I/O (e.g. pd.read_csv)\n",
    "import matplotlib.pyplot as plt\n",
    "import plotly.offline as py\n",
    "py.init_notebook_mode(connected=True)\n",
    "import plotly.graph_objs as go\n",
    "import plotly.tools as tls\n",
    "from collections import defaultdict\n",
    "\n",
    "from sklearn.multiclass import OneVsRestClassifier\n",
    "from sklearn.linear_model import LogisticRegression\n",
    "from sklearn.model_selection import GridSearchCV, train_test_split\n",
    "from sklearn.preprocessing import MultiLabelBinarizer, MinMaxScaler\n",
    "from sklearn.metrics import fbeta_score, precision_score, make_scorer, average_precision_score\n",
    "from sklearn.neural_network import MLPClassifier\n",
    "from sklearn.ensemble import VotingClassifier\n",
    "from sklearn.svm import LinearSVC\n",
    "from sklearn.svm import SVC\n",
    "import cv2\n",
    "import warnings\n",
    "import mahotas as mh"
   ]
  },
  {
   "cell_type": "code",
   "execution_count": 4,
   "metadata": {},
   "outputs": [
    {
     "name": "stdout",
     "output_type": "stream",
     "text": [
      "0                                          [haze, primary]\n",
      "1                     [agriculture, clear, primary, water]\n",
      "2                                         [clear, primary]\n",
      "3                                         [clear, primary]\n",
      "4          [agriculture, clear, habitation, primary, road]\n",
      "5                                   [haze, primary, water]\n",
      "6        [agriculture, clear, cultivation, primary, water]\n",
      "7                                          [haze, primary]\n",
      "8               [agriculture, clear, cultivation, primary]\n",
      "9         [agriculture, clear, cultivation, primary, road]\n",
      "10        [agriculture, clear, primary, slash_burn, water]\n",
      "11                                 [clear, primary, water]\n",
      "12                                                [cloudy]\n",
      "13                                        [clear, primary]\n",
      "14                                                [cloudy]\n",
      "15                                        [clear, primary]\n",
      "16                                        [clear, primary]\n",
      "17                                [partly_cloudy, primary]\n",
      "18                                        [clear, primary]\n",
      "19                     [agriculture, clear, primary, road]\n",
      "20                    [agriculture, clear, primary, water]\n",
      "21                           [clear, primary, road, water]\n",
      "22                                [partly_cloudy, primary]\n",
      "23                     [agriculture, clear, primary, road]\n",
      "24             [conventional_mine, partly_cloudy, primary]\n",
      "25                                        [clear, primary]\n",
      "26                                       [cloudy, primary]\n",
      "27            [agriculture, partly_cloudy, primary, water]\n",
      "28                                        [clear, primary]\n",
      "29                                [partly_cloudy, primary]\n",
      "                               ...                        \n",
      "40449                              [clear, primary, water]\n",
      "40450    [agriculture, cultivation, partly_cloudy, prim...\n",
      "40451                                     [clear, primary]\n",
      "40452                                     [clear, primary]\n",
      "40453                     [artisinal_mine, clear, primary]\n",
      "40454                                     [clear, primary]\n",
      "40455    [agriculture, partly_cloudy, primary, road, co...\n",
      "40456                                     [clear, primary]\n",
      "40457     [clear, primary, road, selective_logging, water]\n",
      "40458                  [agriculture, clear, primary, road]\n",
      "40459                              [clear, primary, water]\n",
      "40460                                     [clear, primary]\n",
      "40461                                             [cloudy]\n",
      "40462                                     [clear, primary]\n",
      "40463                         [agriculture, haze, primary]\n",
      "40464          [agriculture, partly_cloudy, primary, road]\n",
      "40465                          [blow_down, clear, primary]\n",
      "40466                                     [clear, primary]\n",
      "40467                  [agriculture, clear, primary, road]\n",
      "40468                        [agriculture, clear, primary]\n",
      "40469                               [haze, primary, water]\n",
      "40470                   [clear, habitation, primary, road]\n",
      "40471                                     [clear, primary]\n",
      "40472                        [agriculture, clear, primary]\n",
      "40473      [agriculture, clear, habitation, primary, road]\n",
      "40474                                     [clear, primary]\n",
      "40475                                             [cloudy]\n",
      "40476                        [agriculture, clear, primary]\n",
      "40477                  [agriculture, clear, primary, road]\n",
      "40478    [agriculture, cultivation, partly_cloudy, prim...\n",
      "Name: split_tags, dtype: object\n",
      "<class 'pandas.core.series.Series'>\n"
     ]
    }
   ],
   "source": [
    "n_samples = 5000\n",
    "rescaled_dim = 50\n",
    "df = pd.read_csv('/Users/mereltheisen/Kaggle/train.csv')\n",
    "sample = pd.read_csv('/Users/mereltheisen/Dropbox/Kaggle/sample_submission.csv')\n",
    "lb = MultiLabelBinarizer()"
   ]
  },
  {
   "cell_type": "code",
   "execution_count": 5,
   "metadata": {},
   "outputs": [],
   "source": [
    "def set_output(df):\n",
    "    df['split_tags'] = df['tags'].map(lambda row: row.split(\" \"))\n",
    "    y = lb.fit_transform(df['split_tags'])\n",
    "    y = y[:n_samples]\n",
    "    return y\n",
    "\n",
    "def set_input(train_features):\n",
    "    X = np.squeeze(np.array(train_features))\n",
    "    X = MinMaxScaler().fit_transform(X)\n",
    "    return X\n",
    "\n",
    "def calculate_f2(y_test, predicted):\n",
    "    score = fbeta_score(y_test, predicted, beta=2, average=None)\n",
    "    avg_sample_score = fbeta_score(y_test, predicted, beta=2, average='samples')\n",
    "    print('Average F2 test score {}'.format(avg_sample_score))\n",
    "    print('F2 test scores per tag:')\n",
    "    print [(lb.classes_[l], score[l]) for l in score.argsort()[::-1]]"
   ]
  },
  {
   "cell_type": "code",
   "execution_count": 57,
   "metadata": {},
   "outputs": [],
   "source": [
    "# FEATURE EXTRACTION\n",
    "\n",
    "# Raw features\n",
    "raw_features_train = [cv2.resize(plt.imread('/Users/theisenm/Kaggle/train-jpg/{}.jpg'.format(name)), (rescaled_dim, rescaled_dim)).reshape(1, -1) for name in df.head(n_samples)['image_name'].values]\n",
    "raw_features_test = [cv2.resize(plt.imread('/Users/theisenm/Kaggle/test-jpg/{}.jpg'.format(name)), (rescaled_dim, rescaled_dim)).reshape(1, -1) for name in sample['image_name'].values]"
   ]
  },
  {
   "cell_type": "code",
   "execution_count": 45,
   "metadata": {},
   "outputs": [],
   "source": [
    "# Haralick features\n",
    "haralick_features_train = [mh.features.haralick(\n",
    "                cv2.resize(plt.imread('/Users/theisenm/Kaggle/train-jpg/{}.jpg'.format(name)),(rescaled_dim, rescaled_dim)),\n",
    "                ignore_zeros=False, \n",
    "                preserve_haralick_bug=False, \n",
    "                compute_14th_feature=False)\n",
    "         .reshape(1, -1) for name in df.head(n_samples)['image_name'].values]\n",
    "\n",
    "#haralick_features_test = [mh.features.haralick(plt.imread('/Users/theisenm/Kaggle/test-jpg/{}.jpg'.format(name)), ignore_zeros=False, preserve_haralick_bug=False, compute_14th_feature=False).reshape(1, -1) for name in sample['image_name'].values]"
   ]
  },
  {
   "cell_type": "code",
   "execution_count": 58,
   "metadata": {},
   "outputs": [
    {
     "name": "stdout",
     "output_type": "stream",
     "text": [
      "((5000, 10000), (5000, 17), array(['agriculture', 'artisinal_mine', 'bare_ground', 'blooming',\n",
      "       'blow_down', 'clear', 'cloudy', 'conventional_mine', 'cultivation',\n",
      "       'habitation', 'haze', 'partly_cloudy', 'primary', 'road',\n",
      "       'selective_logging', 'slash_burn', 'water'], dtype=object))\n",
      "(40669, 10000)\n"
     ]
    }
   ],
   "source": [
    "# SET X's & Y's\n",
    "y = set_output(df)\n",
    "X = set_input(raw_features_train)\n",
    "X_sub = set_input(raw_features_test)\n",
    "#X = set_input(haralick_features_train)\n",
    "#X_sub = set_input(haralick_features_test)\n",
    "\n",
    "print(X.shape, y.shape, lb.classes_)\n",
    "print X_sub.shape\n",
    "\n",
    "X_train, X_test, y_train, y_test = train_test_split(X, y, test_size=0.33)"
   ]
  },
  {
   "cell_type": "code",
   "execution_count": 60,
   "metadata": {},
   "outputs": [
    {
     "name": "stdout",
     "output_type": "stream",
     "text": [
      "Average F2 test score 0.674446374977\n",
      "F2 test scores per tag:\n",
      "[('primary', 0.94967007374822088), ('clear', 0.84690839026099141), ('cloudy', 0.60869565217391297), ('agriculture', 0.34178847807394663), ('road', 0.25499655410062028), ('partly_cloudy', 0.22959183673469385), ('water', 0.2209550962223806), ('bare_ground', 0.15432098765432098), ('habitation', 0.13066202090592333), ('cultivation', 0.074324324324324328), ('haze', 0.023771790808240881), ('slash_burn', 0.0), ('conventional_mine', 0.0), ('selective_logging', 0.0), ('blow_down', 0.0), ('blooming', 0.0), ('artisinal_mine', 0.0)]\n",
      "  image_name                                   tags\n",
      "0     test_0                          clear primary\n",
      "1     test_1                          clear primary\n",
      "2     test_2  habitation partly_cloudy primary road\n",
      "3     test_3                     clear haze primary\n",
      "4     test_4                habitation primary road\n"
     ]
    }
   ],
   "source": [
    "# LINEAR REGRESSION\n",
    "\n",
    "clf = OneVsRestClassifier(LogisticRegression(C=10, penalty='l2'))\n",
    "with warnings.catch_warnings():\n",
    "    warnings.simplefilter('ignore')\n",
    "    clf.fit(X_train, y_train)\n",
    "\n",
    "# Calculate F2 score    \n",
    "calculate_f2(y_test, clf.predict(X_test))\n",
    "\n",
    "# Classify test set & prepare submission\n",
    "y_sub = clf.predict(X_sub)\n",
    "\n",
    "all_test_tags = []\n",
    "for index in range(y_sub.shape[0]):\n",
    "    all_test_tags.append(' '.join(list(lb.classes_[np.where(y_sub[index, :] == 1)[0]])))\n",
    "\n",
    "sample['tags'] = all_test_tags\n",
    "print sample.head()"
   ]
  },
  {
   "cell_type": "code",
   "execution_count": null,
   "metadata": {
    "collapsed": true
   },
   "outputs": [],
   "source": [
    "# Save output to CSV\n",
    "sample.to_csv('ovr_f2_{}.csv'.format(avg_sample_score), index=False)"
   ]
  },
  {
   "cell_type": "code",
   "execution_count": 61,
   "metadata": {},
   "outputs": [
    {
     "name": "stdout",
     "output_type": "stream",
     "text": [
      "Average F2 test score 0.67907946449\n",
      "F2 test scores per tag:\n",
      "[('primary', 0.98829069619447607), ('clear', 0.91761265909872725), ('agriculture', 0.40730955526199908), ('road', 0.27896995708154509), ('cloudy', 0.19117647058823528), ('artisinal_mine', 0.0), ('bare_ground', 0.0), ('blooming', 0.0), ('blow_down', 0.0), ('water', 0.0), ('conventional_mine', 0.0), ('slash_burn', 0.0), ('habitation', 0.0), ('haze', 0.0), ('partly_cloudy', 0.0), ('selective_logging', 0.0), ('cultivation', 0.0)]\n"
     ]
    }
   ],
   "source": [
    "# MLP - SGD\n",
    "\n",
    "mlp = MLPClassifier(solver='sgd', alpha=1e-3, hidden_layer_sizes=(20, 50, 20), random_state=1, max_iter=1000)\n",
    "mlp.fit(X_train, y_train)\n",
    "\n",
    "# Calculate F2 score \n",
    "calculate_f2(y_test, mlp.predict(X_test))\n",
    "\n",
    "# Classify test set & prepare submission\n",
    "#y_sub = mlp.predict(X_sub)\n",
    "\n",
    "#all_test_tags = []\n",
    "#for index in range(y_sub.shape[0]):\n",
    "#    all_test_tags.append(' '.join(list(lb.classes_[np.where(y_sub[index, :] == 1)[0]])))\n",
    "\n",
    "#sample['tags'] = all_test_tags\n",
    "#print sample.head()"
   ]
  },
  {
   "cell_type": "code",
   "execution_count": null,
   "metadata": {
    "collapsed": true
   },
   "outputs": [],
   "source": [
    "# Save output to CSV\n",
    "sample.to_csv('mlp_f2_{}.csv'.format(avg_sample_score), index=False)"
   ]
  },
  {
   "cell_type": "code",
   "execution_count": 49,
   "metadata": {},
   "outputs": [
    {
     "name": "stdout",
     "output_type": "stream",
     "text": [
      "Average F2 test score 0.81684646498\n",
      "F2 test scores per tag:\n",
      "[('primary', 0.97987980141102715), ('clear', 0.94286219706350605), ('agriculture', 0.77613104524180965), ('cloudy', 0.75045207956600357), ('partly_cloudy', 0.67383512544802859), ('road', 0.61323618700667881), ('haze', 0.53542009884678754), ('water', 0.36098310291858676), ('habitation', 0.25297619047619047), ('cultivation', 0.015128593040847202), ('slash_burn', 0.0), ('conventional_mine', 0.0), ('selective_logging', 0.0), ('blow_down', 0.0), ('blooming', 0.0), ('bare_ground', 0.0), ('artisinal_mine', 0.0)]\n"
     ]
    }
   ],
   "source": [
    "# MLP - lbfgs\n",
    "\n",
    "mlpa = MLPClassifier(solver='lbfgs', alpha=1e-3, hidden_layer_sizes=(20, 50, 20), random_state=1, max_iter=1000)\n",
    "mlpa.fit(X_train, y_train)\n",
    "\n",
    "# Calculate F2 score \n",
    "calculate_f2(y_test, mlpa.predict(X_test))\n",
    "\n",
    "# Classify test set & prepare submission\n",
    "#y_sub = mlpa.predict(X_sub)\n",
    "\n",
    "#all_test_tags = []\n",
    "#for index in range(y_sub.shape[0]):\n",
    "#    all_test_tags.append(' '.join(list(lb.classes_[np.where(y_sub[index, :] == 1)[0]])))\n",
    "\n",
    "#sample['tags'] = all_test_tags\n",
    "#print sample.head()"
   ]
  },
  {
   "cell_type": "code",
   "execution_count": 38,
   "metadata": {},
   "outputs": [
    {
     "name": "stdout",
     "output_type": "stream",
     "text": [
      "Average F2 test score 0.729821284845\n",
      "F2 test scores per tag:\n",
      "[('primary', 0.98483879222108495), ('clear', 0.91188262390173158), ('agriculture', 0.52162328345972531), ('cloudy', 0.51045510455104559), ('road', 0.3513606613847744), ('partly_cloudy', 0.34575489819439115), ('haze', 0.27027027027027029), ('habitation', 0.027910685805422646), ('water', 0.016835016835016835), ('conventional_mine', 0.0), ('slash_burn', 0.0), ('selective_logging', 0.0), ('blow_down', 0.0), ('blooming', 0.0), ('bare_ground', 0.0), ('artisinal_mine', 0.0), ('cultivation', 0.0)]\n",
      "  image_name                                    tags\n",
      "0     test_0                           clear primary\n",
      "1     test_1                           clear primary\n",
      "2     test_2                                 primary\n",
      "3     test_3                           clear primary\n",
      "4     test_4  agriculture partly_cloudy primary road\n"
     ]
    }
   ],
   "source": [
    "# ENSEMBLE\n",
    "ensemble = (clf.predict(X_sub) + mlp.predict(X_sub) + mlpa.predict(X_sub)) / 2\n",
    "ensemble2 = (clf.predict(X_test) + mlp.predict(X_test) + mlpa.predict(X_test)) / 2\n",
    "calculate_f2(y_test, ensemble2)\n",
    "\n",
    "all_test_tags = []\n",
    "for index in range(ensemble.shape[0]):\n",
    "    all_test_tags.append(' '.join(list(lb.classes_[np.where(ensemble[index, :] == 1)[0]])))\n",
    "\n",
    "sample['tags'] = all_test_tags\n",
    "print sample.head()"
   ]
  },
  {
   "cell_type": "code",
   "execution_count": 50,
   "metadata": {},
   "outputs": [
    {
     "name": "stdout",
     "output_type": "stream",
     "text": [
      "Average F2 test score 0.788693823641\n",
      "F2 test scores per tag:\n",
      "[('primary', 0.98671355998436883), ('clear', 0.93002812939521806), ('agriculture', 0.74329652996845419), ('cloudy', 0.67717996289424853), ('road', 0.56768558951965065), ('partly_cloudy', 0.47799696509863426), ('haze', 0.44444444444444448), ('water', 0.22004889975550121), ('habitation', 0.21771771771771772), ('slash_burn', 0.0), ('conventional_mine', 0.0), ('selective_logging', 0.0), ('blow_down', 0.0), ('blooming', 0.0), ('bare_ground', 0.0), ('artisinal_mine', 0.0), ('cultivation', 0.0)]\n"
     ]
    }
   ],
   "source": [
    "ensemble2 = (clf.predict(X_test) + mlp.predict(X_test) + mlpa.predict(X_test)) / 2\n",
    "calculate_f2(y_test, ensemble2)"
   ]
  },
  {
   "cell_type": "code",
   "execution_count": null,
   "metadata": {
    "collapsed": true
   },
   "outputs": [],
   "source": []
  }
 ],
 "metadata": {
  "kernelspec": {
   "display_name": "Python 2",
   "language": "python",
   "name": "python2"
  },
  "language_info": {
   "codemirror_mode": {
    "name": "ipython",
    "version": 2
   },
   "file_extension": ".py",
   "mimetype": "text/x-python",
   "name": "python",
   "nbconvert_exporter": "python",
   "pygments_lexer": "ipython2",
   "version": "2.7.6"
  }
 },
 "nbformat": 4,
 "nbformat_minor": 2
}
