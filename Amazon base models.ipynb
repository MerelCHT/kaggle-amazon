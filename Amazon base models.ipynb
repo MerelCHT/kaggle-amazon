{
 "cells": [
  {
   "cell_type": "code",
   "execution_count": 15,
   "metadata": {
    "collapsed": false
   },
   "outputs": [
    {
     "data": {
      "text/html": [
       "<script>requirejs.config({paths: { 'plotly': ['https://cdn.plot.ly/plotly-latest.min']},});if(!window.Plotly) {{require(['plotly'],function(plotly) {window.Plotly=plotly;});}}</script>"
      ],
      "text/vnd.plotly.v1+html": [
       "<script>requirejs.config({paths: { 'plotly': ['https://cdn.plot.ly/plotly-latest.min']},});if(!window.Plotly) {{require(['plotly'],function(plotly) {window.Plotly=plotly;});}}</script>"
      ]
     },
     "metadata": {},
     "output_type": "display_data"
    }
   ],
   "source": [
    "%matplotlib inline\n",
    "from PIL import Image\n",
    "import numpy as np # linear algebra\n",
    "import pandas as pd # data processing, CSV file I/O (e.g. pd.read_csv)\n",
    "import matplotlib.pyplot as plt\n",
    "import plotly.offline as py\n",
    "py.init_notebook_mode(connected=True)\n",
    "import plotly.graph_objs as go\n",
    "import plotly.tools as tls\n",
    "from collections import defaultdict\n",
    "\n",
    "from sklearn.multiclass import OneVsRestClassifier\n",
    "from sklearn.linear_model import LogisticRegression\n",
    "from sklearn.model_selection import GridSearchCV, train_test_split\n",
    "from sklearn.preprocessing import MultiLabelBinarizer, MinMaxScaler\n",
    "from sklearn.metrics import fbeta_score, precision_score, make_scorer, average_precision_score\n",
    "from sklearn.neural_network import MLPClassifier\n",
    "from sklearn.ensemble import VotingClassifier\n",
    "from sklearn.svm import LinearSVC\n",
    "from sklearn.svm import SVC\n",
    "import cv2\n",
    "import warnings\n",
    "import mahotas as mh"
   ]
  },
  {
   "cell_type": "code",
   "execution_count": 17,
   "metadata": {
    "collapsed": false
   },
   "outputs": [],
   "source": [
    "n_samples = 5000\n",
    "rescaled_dim = 32\n",
    "\n",
    "path = '/Users/theisenm'\n",
    "df = pd.read_csv(path + '/Dropbox/Kaggle/train_v2.csv')\n",
    "sample = pd.read_csv(path + '/Dropbox/Kaggle/sample_submission_v2.csv')\n",
    "\n",
    "lb = MultiLabelBinarizer()"
   ]
  },
  {
   "cell_type": "code",
   "execution_count": 18,
   "metadata": {
    "collapsed": true
   },
   "outputs": [],
   "source": [
    "def set_output(df):\n",
    "    df['split_tags'] = df['tags'].map(lambda row: row.split(\" \"))\n",
    "    y = lb.fit_transform(df['split_tags'])\n",
    "    y = y[:n_samples]\n",
    "    return y\n",
    "\n",
    "def set_input(train_features):\n",
    "    X = np.squeeze(np.array(train_features))\n",
    "    X = MinMaxScaler().fit_transform(X)\n",
    "    return X\n",
    "\n",
    "def calculate_f2(y_test, predicted):\n",
    "    score = fbeta_score(y_test, predicted, beta=2, average=None)\n",
    "    avg_sample_score = fbeta_score(y_test, predicted, beta=2, average='samples')\n",
    "    print('Average F2 test score {}'.format(avg_sample_score))\n",
    "    print('F2 test scores per tag:')\n",
    "    print [(lb.classes_[l], score[l]) for l in score.argsort()[::-1]]"
   ]
  },
  {
   "cell_type": "code",
   "execution_count": 19,
   "metadata": {
    "collapsed": false
   },
   "outputs": [],
   "source": [
    "# FEATURE EXTRACTION\n",
    "\n",
    "# Raw features\n",
    "raw_features_train = [cv2.resize(plt.imread(path + '/Kaggle/train-jpg/{}.jpg'.format(name)), (rescaled_dim, rescaled_dim)).reshape(1, -1) for name in df.head(n_samples)['image_name'].values]\n",
    "raw_features_test = [cv2.resize(plt.imread(path + '/Kaggle/test-jpg/{}.jpg'.format(name)), (rescaled_dim, rescaled_dim)).reshape(1, -1) for name in sample['image_name'].values]"
   ]
  },
  {
   "cell_type": "code",
   "execution_count": 45,
   "metadata": {
    "collapsed": true
   },
   "outputs": [],
   "source": [
    "# Haralick features\n",
    "haralick_features_train = [mh.features.haralick(\n",
    "                cv2.resize(plt.imread('/Users/theisenm/Kaggle/train-jpg/{}.jpg'.format(name)),(rescaled_dim, rescaled_dim)),\n",
    "                ignore_zeros=False, \n",
    "                preserve_haralick_bug=False, \n",
    "                compute_14th_feature=False)\n",
    "         .reshape(1, -1) for name in df.head(n_samples)['image_name'].values]\n",
    "\n",
    "#haralick_features_test = [mh.features.haralick(plt.imread('/Users/theisenm/Kaggle/test-jpg/{}.jpg'.format(name)), ignore_zeros=False, preserve_haralick_bug=False, compute_14th_feature=False).reshape(1, -1) for name in sample['image_name'].values]"
   ]
  },
  {
   "cell_type": "code",
   "execution_count": 20,
   "metadata": {
    "collapsed": false
   },
   "outputs": [
    {
     "name": "stderr",
     "output_type": "stream",
     "text": [
      "/usr/local/lib/python2.7/site-packages/sklearn/utils/validation.py:429: DataConversionWarning:\n",
      "\n",
      "Data with input dtype uint8 was converted to float64 by MinMaxScaler.\n",
      "\n"
     ]
    },
    {
     "name": "stdout",
     "output_type": "stream",
     "text": [
      "((5000, 4096), (5000, 17), array(['agriculture', 'artisinal_mine', 'bare_ground', 'blooming',\n",
      "       'blow_down', 'clear', 'cloudy', 'conventional_mine', 'cultivation',\n",
      "       'habitation', 'haze', 'partly_cloudy', 'primary', 'road',\n",
      "       'selective_logging', 'slash_burn', 'water'], dtype=object))\n",
      "(61191, 4096)\n"
     ]
    }
   ],
   "source": [
    "# SET X's & Y's\n",
    "y = set_output(df)\n",
    "X = set_input(raw_features_train)\n",
    "X_sub = set_input(raw_features_test)\n",
    "#X = set_input(haralick_features_train)\n",
    "#X_sub = set_input(haralick_features_test)\n",
    "\n",
    "print(X.shape, y.shape, lb.classes_)\n",
    "print X_sub.shape\n",
    "\n",
    "X_train, X_test, y_train, y_test = train_test_split(X, y, test_size=0.33)"
   ]
  },
  {
   "cell_type": "code",
   "execution_count": 21,
   "metadata": {
    "collapsed": false
   },
   "outputs": [
    {
     "name": "stderr",
     "output_type": "stream",
     "text": [
      "/usr/local/lib/python2.7/site-packages/sklearn/metrics/classification.py:1113: UndefinedMetricWarning:\n",
      "\n",
      "F-score is ill-defined and being set to 0.0 in labels with no predicted samples.\n",
      "\n",
      "/usr/local/lib/python2.7/site-packages/sklearn/metrics/classification.py:1115: UndefinedMetricWarning:\n",
      "\n",
      "F-score is ill-defined and being set to 0.0 in labels with no true samples.\n",
      "\n",
      "/usr/local/lib/python2.7/site-packages/sklearn/metrics/classification.py:1113: UndefinedMetricWarning:\n",
      "\n",
      "F-score is ill-defined and being set to 0.0 in samples with no predicted labels.\n",
      "\n"
     ]
    },
    {
     "name": "stdout",
     "output_type": "stream",
     "text": [
      "Average F2 test score 0.670601792821\n",
      "F2 test scores per tag:\n",
      "[('primary', 0.95782420181316508), ('clear', 0.8552052140214903), ('cloudy', 0.61475409836065564), ('agriculture', 0.36767760697964275), ('road', 0.26181353767560667), ('partly_cloudy', 0.22889842632331903), ('water', 0.2014652014652015), ('habitation', 0.17492711370262393), ('artisinal_mine', 0.11627906976744186), ('cultivation', 0.081453634085213042), ('bare_ground', 0.033112582781456956), ('slash_burn', 0.0), ('conventional_mine', 0.0), ('haze', 0.0), ('selective_logging', 0.0), ('blow_down', 0.0), ('blooming', 0.0)]\n",
      "  image_name                      tags\n",
      "0     test_0                   primary\n",
      "1     test_1     partly_cloudy primary\n",
      "2     test_2  clear haze primary water\n",
      "3     test_3             clear primary\n",
      "4     test_4  bare_ground cloudy water\n"
     ]
    }
   ],
   "source": [
    "# LINEAR REGRESSION\n",
    "\n",
    "clf = OneVsRestClassifier(LogisticRegression(C=10, penalty='l2'))\n",
    "with warnings.catch_warnings():\n",
    "    warnings.simplefilter('ignore')\n",
    "    clf.fit(X_train, y_train)\n",
    "\n",
    "# Calculate F2 score    \n",
    "calculate_f2(y_test, clf.predict(X_test))\n",
    "\n",
    "# Classify test set & prepare submission\n",
    "y_sub = clf.predict(X_sub)\n",
    "\n",
    "all_test_tags = []\n",
    "for index in range(y_sub.shape[0]):\n",
    "    all_test_tags.append(' '.join(list(lb.classes_[np.where(y_sub[index, :] == 1)[0]])))\n",
    "\n",
    "sample['tags'] = all_test_tags\n",
    "print sample.head()"
   ]
  },
  {
   "cell_type": "code",
   "execution_count": 24,
   "metadata": {
    "collapsed": false
   },
   "outputs": [],
   "source": [
    "# Save output to CSV\n",
    "sample.to_csv('ovr_f2_0.67.csv', index=False)"
   ]
  },
  {
   "cell_type": "code",
   "execution_count": 25,
   "metadata": {
    "collapsed": false
   },
   "outputs": [
    {
     "name": "stdout",
     "output_type": "stream",
     "text": [
      "Average F2 test score 0.674997173453\n",
      "F2 test scores per tag:\n",
      "[('primary', 0.98335067637877205), ('clear', 0.91012018812053641), ('agriculture', 0.42238421955403088), ('cloudy', 0.41079812206572769), ('road', 0.22237196765498651), ('partly_cloudy', 0.044247787610619461), ('artisinal_mine', 0.0), ('bare_ground', 0.0), ('blooming', 0.0), ('blow_down', 0.0), ('water', 0.0), ('conventional_mine', 0.0), ('slash_burn', 0.0), ('habitation', 0.0), ('haze', 0.0), ('selective_logging', 0.0), ('cultivation', 0.0)]\n",
      "  image_name           tags\n",
      "0     test_0  clear primary\n",
      "1     test_1  clear primary\n",
      "2     test_2        primary\n",
      "3     test_3  clear primary\n",
      "4     test_4        primary\n"
     ]
    }
   ],
   "source": [
    "# MLP - SGD\n",
    "\n",
    "mlp = MLPClassifier(solver='sgd', alpha=1e-3, hidden_layer_sizes=(20, 50, 20), random_state=1, max_iter=1000)\n",
    "mlp.fit(X_train, y_train)\n",
    "\n",
    "# Calculate F2 score \n",
    "calculate_f2(y_test, mlp.predict(X_test))\n",
    "\n",
    "# Classify test set & prepare submission\n",
    "y_sub = mlp.predict(X_sub)\n",
    "\n",
    "all_test_tags = []\n",
    "for index in range(y_sub.shape[0]):\n",
    "    all_test_tags.append(' '.join(list(lb.classes_[np.where(y_sub[index, :] == 1)[0]])))\n",
    "\n",
    "sample['tags'] = all_test_tags\n",
    "print sample.head()"
   ]
  },
  {
   "cell_type": "code",
   "execution_count": 26,
   "metadata": {
    "collapsed": true
   },
   "outputs": [],
   "source": [
    "# Save output to CSV\n",
    "sample.to_csv('mlp_f2_0.675.csv', index=False)"
   ]
  },
  {
   "cell_type": "code",
   "execution_count": 27,
   "metadata": {
    "collapsed": false
   },
   "outputs": [
    {
     "name": "stdout",
     "output_type": "stream",
     "text": [
      "Average F2 test score 0.68390101209\n",
      "F2 test scores per tag:\n",
      "[('primary', 0.96037785358173722), ('clear', 0.81992131616595143), ('cloudy', 0.54766734279918872), ('haze', 0.43513957307060758), ('agriculture', 0.41183774834437081), ('partly_cloudy', 0.37812288993923027), ('road', 0.29374999999999996), ('habitation', 0.14471780028943562), ('cultivation', 0.05992010652463383), ('water', 0.016778523489932883), ('conventional_mine', 0.0), ('slash_burn', 0.0), ('selective_logging', 0.0), ('blow_down', 0.0), ('blooming', 0.0), ('bare_ground', 0.0), ('artisinal_mine', 0.0)]\n",
      "  image_name                                       tags\n",
      "0     test_0                      partly_cloudy primary\n",
      "1     test_1                              clear primary\n",
      "2     test_2  agriculture clear habitation primary road\n",
      "3     test_3                              clear primary\n",
      "4     test_4             agriculture clear primary road\n"
     ]
    }
   ],
   "source": [
    "# MLP - lbfgs\n",
    "\n",
    "mlpa = MLPClassifier(solver='lbfgs', alpha=1e-3, hidden_layer_sizes=(20, 50, 20), random_state=1, max_iter=1000)\n",
    "mlpa.fit(X_train, y_train)\n",
    "\n",
    "# Calculate F2 score \n",
    "calculate_f2(y_test, mlpa.predict(X_test))\n",
    "\n",
    "# Classify test set & prepare submission\n",
    "y_sub = mlpa.predict(X_sub)\n",
    "\n",
    "all_test_tags = []\n",
    "for index in range(y_sub.shape[0]):\n",
    "    all_test_tags.append(' '.join(list(lb.classes_[np.where(y_sub[index, :] == 1)[0]])))\n",
    "\n",
    "sample['tags'] = all_test_tags\n",
    "print sample.head()"
   ]
  },
  {
   "cell_type": "code",
   "execution_count": 28,
   "metadata": {
    "collapsed": false
   },
   "outputs": [
    {
     "name": "stdout",
     "output_type": "stream",
     "text": [
      "Average F2 test score 0.676024611776\n",
      "F2 test scores per tag:\n",
      "[('primary', 0.97320261437908506), ('clear', 0.87858021437357237), ('cloudy', 0.57483731019522777), ('agriculture', 0.3963153384747215), ('road', 0.21433355659745482), ('partly_cloudy', 0.16399694889397406), ('habitation', 0.039808917197452227), ('cultivation', 0.0070721357850070726), ('water', 0.0042122999157540014), ('slash_burn', 0.0), ('conventional_mine', 0.0), ('haze', 0.0), ('selective_logging', 0.0), ('blow_down', 0.0), ('blooming', 0.0), ('bare_ground', 0.0), ('artisinal_mine', 0.0)]\n",
      "  image_name           tags\n",
      "0     test_0        primary\n",
      "1     test_1  clear primary\n",
      "2     test_2  clear primary\n",
      "3     test_3  clear primary\n",
      "4     test_4        primary\n"
     ]
    }
   ],
   "source": [
    "# ENSEMBLE\n",
    "ensemble = (clf.predict(X_sub) + mlp.predict(X_sub) + mlpa.predict(X_sub)) / 2\n",
    "ensemble2 = (clf.predict(X_test) + mlp.predict(X_test) + mlpa.predict(X_test)) / 2\n",
    "calculate_f2(y_test, ensemble2)\n",
    "\n",
    "all_test_tags = []\n",
    "for index in range(ensemble.shape[0]):\n",
    "    all_test_tags.append(' '.join(list(lb.classes_[np.where(ensemble[index, :] == 1)[0]])))\n",
    "\n",
    "sample['tags'] = all_test_tags\n",
    "print sample.head()"
   ]
  },
  {
   "cell_type": "code",
   "execution_count": 50,
   "metadata": {
    "collapsed": false
   },
   "outputs": [
    {
     "name": "stdout",
     "output_type": "stream",
     "text": [
      "Average F2 test score 0.788693823641\n",
      "F2 test scores per tag:\n",
      "[('primary', 0.98671355998436883), ('clear', 0.93002812939521806), ('agriculture', 0.74329652996845419), ('cloudy', 0.67717996289424853), ('road', 0.56768558951965065), ('partly_cloudy', 0.47799696509863426), ('haze', 0.44444444444444448), ('water', 0.22004889975550121), ('habitation', 0.21771771771771772), ('slash_burn', 0.0), ('conventional_mine', 0.0), ('selective_logging', 0.0), ('blow_down', 0.0), ('blooming', 0.0), ('bare_ground', 0.0), ('artisinal_mine', 0.0), ('cultivation', 0.0)]\n"
     ]
    }
   ],
   "source": [
    "ensemble2 = (clf.predict(X_test) + mlp.predict(X_test) + mlpa.predict(X_test)) / 2\n",
    "calculate_f2(y_test, ensemble2)"
   ]
  },
  {
   "cell_type": "code",
   "execution_count": null,
   "metadata": {
    "collapsed": true
   },
   "outputs": [],
   "source": []
  }
 ],
 "metadata": {
  "kernelspec": {
   "display_name": "Python 2",
   "language": "python",
   "name": "python2"
  },
  "language_info": {
   "codemirror_mode": {
    "name": "ipython",
    "version": 2
   },
   "file_extension": ".py",
   "mimetype": "text/x-python",
   "name": "python",
   "nbconvert_exporter": "python",
   "pygments_lexer": "ipython2",
   "version": "2.7.10"
  }
 },
 "nbformat": 4,
 "nbformat_minor": 2
}
